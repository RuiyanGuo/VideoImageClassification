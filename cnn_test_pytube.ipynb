{
 "cells": [
  {
   "cell_type": "code",
   "execution_count": 1,
   "id": "1c3df105",
   "metadata": {},
   "outputs": [],
   "source": [
    "from googleapiclient.discovery import build\n",
    "from pytube import YouTube\n",
    "from pytube.exceptions import AgeRestrictedError"
   ]
  },
  {
   "cell_type": "code",
   "execution_count": 2,
   "id": "ab087635",
   "metadata": {},
   "outputs": [
    {
     "data": {
      "text/plain": [
       "'/Users/wuyuemeng/Desktop/project/video/When dogs are the only thing that can make me forget my problems.mp4'"
      ]
     },
     "execution_count": 2,
     "metadata": {},
     "output_type": "execute_result"
    }
   ],
   "source": [
    "# URL of the video you want to download\n",
    "video_url = 'https://www.youtube.com/watch?v=wFgZF0TFQ5o'\n",
    "youtube = YouTube(video_url)\n",
    "\n",
    "# Downloading the video to the current directory\n",
    "youtube.streams.first().download(output_path='/Users/wuyuemeng/Desktop/project/video')"
   ]
  },
  {
   "cell_type": "code",
   "execution_count": 3,
   "id": "d6b43c7a",
   "metadata": {},
   "outputs": [],
   "source": [
    "import cv2"
   ]
  },
  {
   "cell_type": "code",
   "execution_count": 4,
   "id": "861e4481",
   "metadata": {},
   "outputs": [],
   "source": [
    "video_path = '/Users/wuyuemeng/Desktop/project/video/When dogs are the only thing that can make me forget my problems.mp4'\n",
    "# Open the video file\n",
    "cap = cv2.VideoCapture(video_path)\n",
    "time_in_millis = 3000 #3 second\n",
    "\n",
    "# Set the video position to the specific time\n",
    "cap.set(cv2.CAP_PROP_POS_MSEC, time_in_millis)\n",
    "\n",
    "# Read the frame at the specified time\n",
    "success, frame = cap.read()\n",
    "\n",
    "if success:\n",
    "    # Save the frame as an image file\n",
    "    cv2.imwrite('test_image.jpg', frame)\n",
    "else:\n",
    "    print(\"Error: Could not read frame from video.\")\n",
    "\n",
    "# Release the video capture object\n",
    "cap.release()"
   ]
  },
  {
   "cell_type": "code",
   "execution_count": 5,
   "id": "a339dec0",
   "metadata": {},
   "outputs": [
    {
     "name": "stderr",
     "output_type": "stream",
     "text": [
      "2024-04-04 23:04:01.541010: I tensorflow/core/platform/cpu_feature_guard.cc:182] This TensorFlow binary is optimized to use available CPU instructions in performance-critical operations.\n",
      "To enable the following instructions: AVX2 FMA, in other operations, rebuild TensorFlow with the appropriate compiler flags.\n"
     ]
    }
   ],
   "source": [
    "from PIL import Image\n",
    "from keras.preprocessing import image\n",
    "from keras.applications.resnet50 import preprocess_input\n",
    "import numpy as np"
   ]
  },
  {
   "cell_type": "code",
   "execution_count": 6,
   "id": "fb1db035",
   "metadata": {},
   "outputs": [
    {
     "data": {
      "text/plain": [
       "(1, 64, 64, 3)"
      ]
     },
     "execution_count": 6,
     "metadata": {},
     "output_type": "execute_result"
    }
   ],
   "source": [
    "image_w = 64 \n",
    "image_h = 64\n",
    "\n",
    "image_path = '/Users/wuyuemeng/Desktop/project/test_image.jpg'\n",
    "\n",
    "image = Image.open(image_path)\n",
    "img = image.convert('RGB')\n",
    "test_img = img.resize((image_w, image_h))\n",
    "#test_img = image.img_to_array(test_img)\n",
    "test_img = np.array(test_img)\n",
    "test_img = preprocess_input(test_img)\n",
    "test_img = test_img.astype(\"float\") / 64.0\n",
    "test_img = test_img.reshape(-1, 64, 64, 3)\n",
    "test_img.shape"
   ]
  },
  {
   "cell_type": "code",
   "execution_count": 8,
   "id": "07ac5c29",
   "metadata": {},
   "outputs": [],
   "source": [
    "from tensorflow.keras.models import load_model"
   ]
  },
  {
   "cell_type": "code",
   "execution_count": 9,
   "id": "a44fdc5d",
   "metadata": {},
   "outputs": [],
   "source": [
    "model = load_model('/Users/wuyuemeng/Desktop/project/my_model.h5')"
   ]
  },
  {
   "cell_type": "code",
   "execution_count": 11,
   "id": "95d02b95",
   "metadata": {},
   "outputs": [],
   "source": [
    "categories = [0, 1, 2]"
   ]
  },
  {
   "cell_type": "code",
   "execution_count": 12,
   "id": "9270b3fd",
   "metadata": {},
   "outputs": [
    {
     "name": "stdout",
     "output_type": "stream",
     "text": [
      "1/1 [==============================] - 0s 24ms/step\n",
      "data category :  1\n"
     ]
    },
    {
     "data": {
      "text/plain": [
       "[1]"
      ]
     },
     "execution_count": 12,
     "metadata": {},
     "output_type": "execute_result"
    }
   ],
   "source": [
    "pred = model.predict(test_img)  \n",
    "pred\n",
    "result = [np.argmax(value) for value in pred]   # Returns the class with the highest predicted value\n",
    "print('data category : ',categories[result[0]])\n",
    "result"
   ]
  },
  {
   "cell_type": "code",
   "execution_count": null,
   "id": "7a0c86bf",
   "metadata": {},
   "outputs": [],
   "source": []
  }
 ],
 "metadata": {
  "kernelspec": {
   "display_name": "Python 3 (ipykernel)",
   "language": "python",
   "name": "python3"
  },
  "language_info": {
   "codemirror_mode": {
    "name": "ipython",
    "version": 3
   },
   "file_extension": ".py",
   "mimetype": "text/x-python",
   "name": "python",
   "nbconvert_exporter": "python",
   "pygments_lexer": "ipython3",
   "version": "3.9.12"
  }
 },
 "nbformat": 4,
 "nbformat_minor": 5
}
