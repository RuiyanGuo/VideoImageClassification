{
 "cells": [
  {
   "cell_type": "code",
   "execution_count": 1,
   "id": "3c8a7c11",
   "metadata": {},
   "outputs": [
    {
     "name": "stderr",
     "output_type": "stream",
     "text": [
      "/var/folders/yv/8sn4_mf155d8ltwrkhtfcqm00000gn/T/ipykernel_28179/1322028696.py:11: DeprecationWarning: Importing display from IPython.core.display is deprecated since IPython 7.14, please import from IPython display\n",
      "  from IPython.core.display import display, HTML\n"
     ]
    },
    {
     "data": {
      "text/html": [
       "<style>.container { width:100% !important; }</style>"
      ],
      "text/plain": [
       "<IPython.core.display.HTML object>"
      ]
     },
     "metadata": {},
     "output_type": "display_data"
    }
   ],
   "source": [
    "import pandas as pd\n",
    "import matplotlib.pyplot as plt\n",
    "from PIL import Image\n",
    "import requests\n",
    "import os\n",
    "from glob import glob\n",
    "import io\n",
    "import numpy as np\n",
    "from io import BytesIO\n",
    "\n",
    "from IPython.core.display import display, HTML\n",
    "display(HTML(\"<style>.container { width:100% !important; }</style>\"))\n",
    "\n",
    "pd.set_option('display.max.colwidth',100)\n",
    "pd.options.display.max_columns = 100\n",
    "\n",
    "from IPython.core.interactiveshell import InteractiveShell\n",
    "InteractiveShell.ast_node_interactivity = \"all\""
   ]
  },
  {
   "cell_type": "code",
   "execution_count": 2,
   "id": "09818a4b",
   "metadata": {},
   "outputs": [
    {
     "name": "stderr",
     "output_type": "stream",
     "text": [
      "2024-04-02 16:26:31.678173: I tensorflow/core/platform/cpu_feature_guard.cc:182] This TensorFlow binary is optimized to use available CPU instructions in performance-critical operations.\n",
      "To enable the following instructions: AVX2 FMA, in other operations, rebuild TensorFlow with the appropriate compiler flags.\n"
     ]
    }
   ],
   "source": [
    "from keras.preprocessing import image\n",
    "from keras.applications.resnet50 import preprocess_input\n",
    "from sklearn.model_selection import train_test_split\n",
    "from tensorflow.keras.models import load_model"
   ]
  },
  {
   "cell_type": "code",
   "execution_count": 3,
   "id": "00769f9d",
   "metadata": {},
   "outputs": [],
   "source": [
    "from keras.models import Sequential\n",
    "from keras import metrics\n",
    "from keras import optimizers\n",
    "from keras.layers import MaxPooling2D\n",
    "from keras.layers import Conv2D\n",
    "from keras.layers import Activation, Dropout, Flatten, Dense\n",
    "from tensorflow.keras.optimizers import RMSprop\n",
    "import numpy as np\n",
    "import os"
   ]
  },
  {
   "cell_type": "markdown",
   "id": "be0fb1dd",
   "metadata": {},
   "source": [
    "# Importing data"
   ]
  },
  {
   "cell_type": "code",
   "execution_count": 4,
   "id": "7d949ddb",
   "metadata": {},
   "outputs": [
    {
     "data": {
      "text/html": [
       "<div>\n",
       "<style scoped>\n",
       "    .dataframe tbody tr th:only-of-type {\n",
       "        vertical-align: middle;\n",
       "    }\n",
       "\n",
       "    .dataframe tbody tr th {\n",
       "        vertical-align: top;\n",
       "    }\n",
       "\n",
       "    .dataframe thead th {\n",
       "        text-align: right;\n",
       "    }\n",
       "</style>\n",
       "<table border=\"1\" class=\"dataframe\">\n",
       "  <thead>\n",
       "    <tr style=\"text-align: right;\">\n",
       "      <th></th>\n",
       "      <th>Unnamed: 0.1</th>\n",
       "      <th>Unnamed: 0</th>\n",
       "      <th>category_id</th>\n",
       "      <th>thumbnail</th>\n",
       "    </tr>\n",
       "  </thead>\n",
       "  <tbody>\n",
       "    <tr>\n",
       "      <th>0</th>\n",
       "      <td>3368</td>\n",
       "      <td>7784</td>\n",
       "      <td>1</td>\n",
       "      <td>https://i.ytimg.com/vi/43ZUs-l2pXU/hqdefault.jpg?sqp=-oaymwEcCNACELwBSFXyq4qpAw4IARUAAIhCGAFwAcA...</td>\n",
       "    </tr>\n",
       "    <tr>\n",
       "      <th>1</th>\n",
       "      <td>2744</td>\n",
       "      <td>21089</td>\n",
       "      <td>2</td>\n",
       "      <td>https://i.ytimg.com/vi/yvycLaoVrLs/hqdefault.jpg?sqp=-oaymwEcCNACELwBSFXyq4qpAw4IARUAAIhCGAFwAcA...</td>\n",
       "    </tr>\n",
       "    <tr>\n",
       "      <th>2</th>\n",
       "      <td>4239</td>\n",
       "      <td>20097</td>\n",
       "      <td>2</td>\n",
       "      <td>https://i.ytimg.com/vi/CtyFXQ00md4/hqdefault.jpg?sqp=-oaymwEcCNACELwBSFXyq4qpAw4IARUAAIhCGAFwAcA...</td>\n",
       "    </tr>\n",
       "    <tr>\n",
       "      <th>3</th>\n",
       "      <td>3148</td>\n",
       "      <td>22185</td>\n",
       "      <td>2</td>\n",
       "      <td>https://i.ytimg.com/vi/gaFjIEJHzHo/hqdefault.jpg?sqp=-oaymwEcCNACELwBSFXyq4qpAw4IARUAAIhCGAFwAcA...</td>\n",
       "    </tr>\n",
       "    <tr>\n",
       "      <th>4</th>\n",
       "      <td>2440</td>\n",
       "      <td>5875</td>\n",
       "      <td>0</td>\n",
       "      <td>https://i.ytimg.com/vi/_Tu0HLDCkrA/hqdefault.jpg?sqp=-oaymwEcCNACELwBSFXyq4qpAw4IARUAAIhCGAFwAcA...</td>\n",
       "    </tr>\n",
       "  </tbody>\n",
       "</table>\n",
       "</div>"
      ],
      "text/plain": [
       "   Unnamed: 0.1  Unnamed: 0  category_id  \\\n",
       "0          3368        7784            1   \n",
       "1          2744       21089            2   \n",
       "2          4239       20097            2   \n",
       "3          3148       22185            2   \n",
       "4          2440        5875            0   \n",
       "\n",
       "                                                                                             thumbnail  \n",
       "0  https://i.ytimg.com/vi/43ZUs-l2pXU/hqdefault.jpg?sqp=-oaymwEcCNACELwBSFXyq4qpAw4IARUAAIhCGAFwAcA...  \n",
       "1  https://i.ytimg.com/vi/yvycLaoVrLs/hqdefault.jpg?sqp=-oaymwEcCNACELwBSFXyq4qpAw4IARUAAIhCGAFwAcA...  \n",
       "2  https://i.ytimg.com/vi/CtyFXQ00md4/hqdefault.jpg?sqp=-oaymwEcCNACELwBSFXyq4qpAw4IARUAAIhCGAFwAcA...  \n",
       "3  https://i.ytimg.com/vi/gaFjIEJHzHo/hqdefault.jpg?sqp=-oaymwEcCNACELwBSFXyq4qpAw4IARUAAIhCGAFwAcA...  \n",
       "4  https://i.ytimg.com/vi/_Tu0HLDCkrA/hqdefault.jpg?sqp=-oaymwEcCNACELwBSFXyq4qpAw4IARUAAIhCGAFwAcA...  "
      ]
     },
     "execution_count": 4,
     "metadata": {},
     "output_type": "execute_result"
    },
    {
     "data": {
      "text/plain": [
       "(17813, 4)"
      ]
     },
     "execution_count": 4,
     "metadata": {},
     "output_type": "execute_result"
    }
   ],
   "source": [
    "df = pd.read_csv('/Users/wuyuemeng/Desktop/project/real_dataset2/train_set.csv', encoding='utf-8-sig')\n",
    "df = df.sample(frac=1).reset_index(drop=True)\n",
    "df.head()\n",
    "df.shape"
   ]
  },
  {
   "cell_type": "code",
   "execution_count": 5,
   "id": "a68a0eb1",
   "metadata": {},
   "outputs": [],
   "source": [
    "category = df['category_id']\n",
    "thumbnail = df['thumbnail']"
   ]
  },
  {
   "cell_type": "markdown",
   "id": "5aac27bb",
   "metadata": {},
   "source": [
    "- load data"
   ]
  },
  {
   "cell_type": "code",
   "execution_count": 7,
   "id": "13df6e48",
   "metadata": {},
   "outputs": [],
   "source": [
    "image_w = 64 \n",
    "image_h = 64\n",
    "data_tensors = []\n",
    "\n",
    "for i in thumbnail :\n",
    "    \n",
    "    url = i+str('.jpg')\n",
    "    response = requests.get(url, stream=True) \n",
    "    img= Image.open(io.BytesIO(response.content)) \n",
    "    \n",
    "    img = img.convert(\"RGB\")\n",
    "    img = img.resize((image_w, image_h))\n",
    "    img = image.img_to_array(img)\n",
    "\n",
    "    img = preprocess_input(img)\n",
    "    data_tensors.append(img)\n",
    "    "
   ]
  },
  {
   "cell_type": "code",
   "execution_count": 8,
   "id": "48ff0995",
   "metadata": {},
   "outputs": [],
   "source": [
    "X = np.array(data_tensors)\n",
    "Y = np.array(category)\n",
    "Y = pd.get_dummies(Y).to_numpy()"
   ]
  },
  {
   "cell_type": "code",
   "execution_count": 9,
   "id": "ecde9f77",
   "metadata": {},
   "outputs": [
    {
     "data": {
      "text/plain": [
       "(17813, 64, 64, 3)"
      ]
     },
     "execution_count": 9,
     "metadata": {},
     "output_type": "execute_result"
    },
    {
     "data": {
      "text/plain": [
       "(17813, 3)"
      ]
     },
     "execution_count": 9,
     "metadata": {},
     "output_type": "execute_result"
    }
   ],
   "source": [
    "X.shape\n",
    "Y.shape"
   ]
  },
  {
   "cell_type": "markdown",
   "id": "257cc416",
   "metadata": {},
   "source": [
    "- Split data into train and test set"
   ]
  },
  {
   "cell_type": "code",
   "execution_count": 10,
   "id": "6921abd3",
   "metadata": {},
   "outputs": [
    {
     "data": {
      "text/plain": [
       "(13359, 64, 64, 3)"
      ]
     },
     "execution_count": 10,
     "metadata": {},
     "output_type": "execute_result"
    }
   ],
   "source": [
    "X_train, X_test, y_train, y_test = \\\n",
    "    train_test_split(X, Y)\n",
    "X_train.shape"
   ]
  },
  {
   "cell_type": "code",
   "execution_count": 11,
   "id": "e777d588",
   "metadata": {},
   "outputs": [
    {
     "name": "stderr",
     "output_type": "stream",
     "text": [
      "/Users/wuyuemeng/opt/anaconda3/lib/python3.9/site-packages/numpy/lib/npyio.py:518: VisibleDeprecationWarning: Creating an ndarray from ragged nested sequences (which is a list-or-tuple of lists-or-tuples-or ndarrays with different lengths or shapes) is deprecated. If you meant to do this, you must specify 'dtype=object' when creating the ndarray.\n",
      "  arr = np.asanyarray(arr)\n"
     ]
    }
   ],
   "source": [
    "xy = (X_train, X_test, y_train, y_test)\n",
    "np.save(\"/Users/wuyuemeng/Desktop/project/image_train_test_split.npy\", xy)"
   ]
  },
  {
   "cell_type": "code",
   "execution_count": 45,
   "id": "fed53bfa",
   "metadata": {},
   "outputs": [
    {
     "data": {
      "text/plain": [
       "((13359, 64, 64, 3), (4454, 64, 64, 3), (13359, 3), (4454, 3))"
      ]
     },
     "execution_count": 45,
     "metadata": {},
     "output_type": "execute_result"
    }
   ],
   "source": [
    "X_train, X_valid, y_train, y_valid = np.load(\"image_train_test_split.npy\", allow_pickle=True)\n",
    "X_train.shape, X_valid.shape, y_train.shape, y_valid.shape"
   ]
  },
  {
   "cell_type": "code",
   "execution_count": 46,
   "id": "3d4e74da",
   "metadata": {},
   "outputs": [
    {
     "name": "stdout",
     "output_type": "stream",
     "text": [
      "X_train shape: (13359, 64, 64, 3)\n",
      "X_valid shape: (4454, 64, 64, 3)\n"
     ]
    },
    {
     "data": {
      "text/plain": [
       "(array([0, 1, 2]), 3)"
      ]
     },
     "execution_count": 46,
     "metadata": {},
     "output_type": "execute_result"
    }
   ],
   "source": [
    "# Specifying a category\n",
    "categories = np.sort(category.unique())\n",
    "classes_num = len(categories)\n",
    "\n",
    "# Normalizing data (between 0 and 1)\n",
    "X_train = X_train.astype(\"float\") / 64.0\n",
    "X_valid  = X_valid.astype(\"float\")  / 64.0\n",
    "print('X_train shape:', X_train.shape) \n",
    "print('X_valid shape:', X_valid.shape)\n",
    "categories, classes_num"
   ]
  },
  {
   "cell_type": "markdown",
   "id": "82a96df7",
   "metadata": {},
   "source": [
    "# CNN Model training and testing"
   ]
  },
  {
   "cell_type": "code",
   "execution_count": 47,
   "id": "1f34c864",
   "metadata": {},
   "outputs": [
    {
     "name": "stdout",
     "output_type": "stream",
     "text": [
      "Model: \"sequential_6\"\n",
      "_________________________________________________________________\n",
      " Layer (type)                Output Shape              Param #   \n",
      "=================================================================\n",
      " conv2d_18 (Conv2D)          (None, 64, 64, 32)        896       \n",
      "                                                                 \n",
      " activation_30 (Activation)  (None, 64, 64, 32)        0         \n",
      "                                                                 \n",
      " dropout_18 (Dropout)        (None, 64, 64, 32)        0         \n",
      "                                                                 \n",
      " max_pooling2d_12 (MaxPooli  (None, 32, 32, 32)        0         \n",
      " ng2D)                                                           \n",
      "                                                                 \n",
      " conv2d_19 (Conv2D)          (None, 32, 32, 64)        18496     \n",
      "                                                                 \n",
      " activation_31 (Activation)  (None, 32, 32, 64)        0         \n",
      "                                                                 \n",
      " conv2d_20 (Conv2D)          (None, 30, 30, 64)        36928     \n",
      "                                                                 \n",
      " activation_32 (Activation)  (None, 30, 30, 64)        0         \n",
      "                                                                 \n",
      " dropout_19 (Dropout)        (None, 30, 30, 64)        0         \n",
      "                                                                 \n",
      " max_pooling2d_13 (MaxPooli  (None, 15, 15, 64)        0         \n",
      " ng2D)                                                           \n",
      "                                                                 \n",
      " flatten_6 (Flatten)         (None, 14400)             0         \n",
      "                                                                 \n",
      " dense_12 (Dense)            (None, 512)               7373312   \n",
      "                                                                 \n",
      " activation_33 (Activation)  (None, 512)               0         \n",
      "                                                                 \n",
      " dropout_20 (Dropout)        (None, 512)               0         \n",
      "                                                                 \n",
      " dense_13 (Dense)            (None, 3)                 1539      \n",
      "                                                                 \n",
      " activation_34 (Activation)  (None, 3)                 0         \n",
      "                                                                 \n",
      "=================================================================\n",
      "Total params: 7431171 (28.35 MB)\n",
      "Trainable params: 7431171 (28.35 MB)\n",
      "Non-trainable params: 0 (0.00 Byte)\n",
      "_________________________________________________________________\n"
     ]
    }
   ],
   "source": [
    "model = Sequential()\n",
    "model.add(Conv2D(32, (3, 3), input_shape=X_train.shape[1:], padding='same'))\n",
    "model.add(Activation('relu'))\n",
    "model.add(Dropout(0.25))\n",
    "model.add(MaxPooling2D(pool_size=(2, 2)))\n",
    "\n",
    "model.add(Conv2D(64, (3, 3), padding='same'))\n",
    "model.add(Activation('relu'))\n",
    "model.add(Conv2D(64, (3, 3))) \n",
    "model.add(Activation('relu'))\n",
    "model.add(Dropout(0.25))\n",
    "model.add(MaxPooling2D(pool_size=(2, 2)))\n",
    "\n",
    "# Fully-connected layer\n",
    "model.add(Flatten())    # In vector form reshape\n",
    "model.add(Dense(512))   # Output\n",
    "model.add(Activation('relu'))\n",
    "model.add(Dropout(0.4))\n",
    "\n",
    "model.add(Dense(classes_num))\n",
    "model.add(Activation('softmax'))\n",
    "# Building a model\n",
    "learning_rate = 0.001\n",
    "optimizer = RMSprop(learning_rate=learning_rate)  # Specifying an optimization function\n",
    "model.compile(loss='categorical_crossentropy',   \n",
    "    optimizer=optimizer,\n",
    "    metrics=['accuracy'])\n",
    "\n",
    "# Model summary\n",
    "model.summary()"
   ]
  },
  {
   "cell_type": "markdown",
   "id": "ad8c3eba",
   "metadata": {},
   "source": [
    "- Batch size: 32"
   ]
  },
  {
   "cell_type": "code",
   "execution_count": 15,
   "id": "edce4caa",
   "metadata": {
    "scrolled": true
   },
   "outputs": [
    {
     "name": "stdout",
     "output_type": "stream",
     "text": [
      "Epoch 1/20\n",
      "418/418 [==============================] - 191s 454ms/step - loss: 0.7403 - accuracy: 0.7253 - val_loss: 0.5466 - val_accuracy: 0.7822\n",
      "Epoch 2/20\n",
      "418/418 [==============================] - 183s 437ms/step - loss: 0.4471 - accuracy: 0.8324 - val_loss: 0.3906 - val_accuracy: 0.8577\n",
      "Epoch 3/20\n",
      "418/418 [==============================] - 181s 432ms/step - loss: 0.3547 - accuracy: 0.8667 - val_loss: 0.3415 - val_accuracy: 0.8731\n",
      "Epoch 4/20\n",
      "418/418 [==============================] - 169s 403ms/step - loss: 0.2903 - accuracy: 0.8960 - val_loss: 0.5047 - val_accuracy: 0.7979\n",
      "Epoch 5/20\n",
      "418/418 [==============================] - 161s 384ms/step - loss: 0.2369 - accuracy: 0.9143 - val_loss: 0.3314 - val_accuracy: 0.8774\n",
      "Epoch 6/20\n",
      "418/418 [==============================] - 184s 441ms/step - loss: 0.1808 - accuracy: 0.9346 - val_loss: 0.3712 - val_accuracy: 0.8642\n",
      "Epoch 7/20\n",
      "418/418 [==============================] - 183s 438ms/step - loss: 0.1476 - accuracy: 0.9481 - val_loss: 0.4421 - val_accuracy: 0.8758\n",
      "Epoch 8/20\n",
      "418/418 [==============================] - 183s 438ms/step - loss: 0.1170 - accuracy: 0.9607 - val_loss: 0.4845 - val_accuracy: 0.8568\n",
      "Epoch 9/20\n",
      "418/418 [==============================] - 180s 430ms/step - loss: 0.0995 - accuracy: 0.9677 - val_loss: 0.4309 - val_accuracy: 0.8684\n",
      "Epoch 10/20\n",
      "418/418 [==============================] - 180s 430ms/step - loss: 0.0890 - accuracy: 0.9728 - val_loss: 0.4317 - val_accuracy: 0.8716\n",
      "Epoch 11/20\n",
      "418/418 [==============================] - 181s 434ms/step - loss: 0.0730 - accuracy: 0.9805 - val_loss: 0.7235 - val_accuracy: 0.8534\n",
      "Epoch 12/20\n",
      "418/418 [==============================] - 172s 411ms/step - loss: 0.0810 - accuracy: 0.9764 - val_loss: 0.7140 - val_accuracy: 0.8680\n",
      "Epoch 13/20\n",
      "418/418 [==============================] - 181s 432ms/step - loss: 0.0843 - accuracy: 0.9796 - val_loss: 0.5934 - val_accuracy: 0.8801\n",
      "Epoch 14/20\n",
      "418/418 [==============================] - 189s 452ms/step - loss: 0.0718 - accuracy: 0.9811 - val_loss: 0.8814 - val_accuracy: 0.8693\n",
      "Epoch 15/20\n",
      "418/418 [==============================] - 182s 435ms/step - loss: 0.0784 - accuracy: 0.9824 - val_loss: 0.6206 - val_accuracy: 0.8765\n",
      "Epoch 16/20\n",
      "418/418 [==============================] - 177s 424ms/step - loss: 0.0509 - accuracy: 0.9865 - val_loss: 0.7594 - val_accuracy: 0.8765\n",
      "Epoch 17/20\n",
      "418/418 [==============================] - 145s 346ms/step - loss: 0.0652 - accuracy: 0.9856 - val_loss: 0.8135 - val_accuracy: 0.8696\n",
      "Epoch 18/20\n",
      "418/418 [==============================] - 140s 335ms/step - loss: 0.0736 - accuracy: 0.9829 - val_loss: 0.9423 - val_accuracy: 0.8673\n",
      "Epoch 19/20\n",
      "418/418 [==============================] - 2922s 7s/step - loss: 0.0732 - accuracy: 0.9841 - val_loss: 0.9785 - val_accuracy: 0.8617\n",
      "Epoch 20/20\n",
      "418/418 [==============================] - 185s 442ms/step - loss: 0.0634 - accuracy: 0.9870 - val_loss: 0.9294 - val_accuracy: 0.8767\n"
     ]
    },
    {
     "data": {
      "text/plain": [
       "<Figure size 576x360 with 0 Axes>"
      ]
     },
     "execution_count": 15,
     "metadata": {},
     "output_type": "execute_result"
    },
    {
     "data": {
      "text/plain": [
       "[<matplotlib.lines.Line2D at 0x7f838843b5e0>]"
      ]
     },
     "execution_count": 15,
     "metadata": {},
     "output_type": "execute_result"
    },
    {
     "data": {
      "text/plain": [
       "[<matplotlib.lines.Line2D at 0x7f838843bac0>]"
      ]
     },
     "execution_count": 15,
     "metadata": {},
     "output_type": "execute_result"
    },
    {
     "data": {
      "text/plain": [
       "Text(0.5, 1.0, 'Model Loss')"
      ]
     },
     "execution_count": 15,
     "metadata": {},
     "output_type": "execute_result"
    },
    {
     "data": {
      "text/plain": [
       "Text(0, 0.5, 'Loss')"
      ]
     },
     "execution_count": 15,
     "metadata": {},
     "output_type": "execute_result"
    },
    {
     "data": {
      "text/plain": [
       "Text(0.5, 0, 'Epoch')"
      ]
     },
     "execution_count": 15,
     "metadata": {},
     "output_type": "execute_result"
    },
    {
     "data": {
      "text/plain": [
       "<matplotlib.legend.Legend at 0x7f838843b8b0>"
      ]
     },
     "execution_count": 15,
     "metadata": {},
     "output_type": "execute_result"
    },
    {
     "data": {
      "image/png": "[encoded data removed]",
      "text/plain": [
       "<Figure size 576x360 with 1 Axes>"
      ]
     },
     "metadata": {
      "needs_background": "light"
     },
     "output_type": "display_data"
    },
    {
     "data": {
      "text/plain": [
       "<Figure size 576x360 with 0 Axes>"
      ]
     },
     "execution_count": 15,
     "metadata": {},
     "output_type": "execute_result"
    },
    {
     "data": {
      "text/plain": [
       "[<matplotlib.lines.Line2D at 0x7f83880bfbe0>]"
      ]
     },
     "execution_count": 15,
     "metadata": {},
     "output_type": "execute_result"
    },
    {
     "data": {
      "text/plain": [
       "Text(0.5, 1.0, 'Model Accuracy')"
      ]
     },
     "execution_count": 15,
     "metadata": {},
     "output_type": "execute_result"
    },
    {
     "data": {
      "text/plain": [
       "Text(0, 0.5, 'Accuracy')"
      ]
     },
     "execution_count": 15,
     "metadata": {},
     "output_type": "execute_result"
    },
    {
     "data": {
      "text/plain": [
       "Text(0.5, 0, 'Epoch')"
      ]
     },
     "execution_count": 15,
     "metadata": {},
     "output_type": "execute_result"
    },
    {
     "data": {
      "text/plain": [
       "<matplotlib.legend.Legend at 0x7f8387fd5850>"
      ]
     },
     "execution_count": 15,
     "metadata": {},
     "output_type": "execute_result"
    },
    {
     "data": {
      "image/png": "[encoded data removed]",
      "text/plain": [
       "<Figure size 576x360 with 1 Axes>"
      ]
     },
     "metadata": {
      "needs_background": "light"
     },
     "output_type": "display_data"
    }
   ],
   "source": [
    "history1 = model.fit(X_train, y_train, batch_size=32, epochs=20 , validation_data=(X_valid, y_valid))\n",
    "df_history = pd.DataFrame(history1.history)\n",
    "# Plot loss\n",
    "plt.figure(figsize=(8, 5))\n",
    "plt.plot(df_history['loss'], label='Training Loss')\n",
    "plt.plot(df_history['val_loss'], label='Validation Loss')\n",
    "plt.title('Model Loss')\n",
    "plt.ylabel('Loss')\n",
    "plt.xlabel('Epoch')\n",
    "plt.legend()\n",
    "plt.grid(True)\n",
    "plt.show()\n",
    "\n",
    "# Plot accuracy\n",
    "plt.figure(figsize=(8, 5))\n",
    "plt.plot(df_history['val_accuracy'], label='Validation Accuracy')\n",
    "plt.title('Model Accuracy')\n",
    "plt.ylabel('Accuracy')\n",
    "plt.xlabel('Epoch')\n",
    "plt.legend()\n",
    "plt.grid(True)\n",
    "plt.show()\n"
   ]
  },
  {
   "cell_type": "code",
   "execution_count": 16,
   "id": "496cd2c5",
   "metadata": {},
   "outputs": [
    {
     "name": "stdout",
     "output_type": "stream",
     "text": [
      "140/140 [==============================] - 10s 73ms/step - loss: 0.9294 - accuracy: 0.8767\n",
      "loss= 0.9294494986534119\n",
      "accuracy= 0.876740038394928\n"
     ]
    }
   ],
   "source": [
    "# Evaluating the model\n",
    "score = model.evaluate(X_valid, y_valid)\n",
    "print('loss=', score[0])        \n",
    "print('accuracy=', score[1])   "
   ]
  },
  {
   "cell_type": "code",
   "execution_count": 17,
   "id": "020bcf41",
   "metadata": {},
   "outputs": [
    {
     "name": "stderr",
     "output_type": "stream",
     "text": [
      "/Users/wuyuemeng/opt/anaconda3/lib/python3.9/site-packages/keras/src/engine/training.py:3000: UserWarning: You are saving your model as an HDF5 file via `model.save()`. This file format is considered legacy. We recommend using instead the native Keras format, e.g. `model.save('my_model.keras')`.\n",
      "  saving_api.save_model(\n"
     ]
    }
   ],
   "source": [
    "model.save('/Users/wuyuemeng/Desktop/project/my_model.h5')"
   ]
  },
  {
   "cell_type": "markdown",
   "id": "3f548dc9",
   "metadata": {},
   "source": [
    "- Batch size: 8"
   ]
  },
  {
   "cell_type": "code",
   "execution_count": 48,
   "id": "49953862",
   "metadata": {
    "scrolled": true
   },
   "outputs": [
    {
     "name": "stdout",
     "output_type": "stream",
     "text": [
      "Epoch 1/20\n",
      "1670/1670 [==============================] - 311s 186ms/step - loss: 0.6892 - accuracy: 0.7384 - val_loss: 0.5408 - val_accuracy: 0.8139\n",
      "Epoch 2/20\n",
      "1670/1670 [==============================] - 310s 185ms/step - loss: 0.5189 - accuracy: 0.8162 - val_loss: 0.4301 - val_accuracy: 0.8348\n",
      "Epoch 3/20\n",
      "1670/1670 [==============================] - 312s 187ms/step - loss: 0.4954 - accuracy: 0.8322 - val_loss: 0.4117 - val_accuracy: 0.8415\n",
      "Epoch 4/20\n",
      "1670/1670 [==============================] - 312s 187ms/step - loss: 0.4803 - accuracy: 0.8419 - val_loss: 0.3728 - val_accuracy: 0.8635\n",
      "Epoch 5/20\n",
      "1670/1670 [==============================] - 314s 188ms/step - loss: 0.4695 - accuracy: 0.8466 - val_loss: 0.4381 - val_accuracy: 0.8485\n",
      "Epoch 6/20\n",
      "1670/1670 [==============================] - 311s 186ms/step - loss: 0.4791 - accuracy: 0.8486 - val_loss: 0.4217 - val_accuracy: 0.8422\n",
      "Epoch 7/20\n",
      "1670/1670 [==============================] - 313s 187ms/step - loss: 0.5043 - accuracy: 0.8415 - val_loss: 0.4716 - val_accuracy: 0.8318\n",
      "Epoch 8/20\n",
      "1670/1670 [==============================] - 312s 187ms/step - loss: 0.5225 - accuracy: 0.8456 - val_loss: 0.4014 - val_accuracy: 0.8536\n",
      "Epoch 9/20\n",
      "1670/1670 [==============================] - 312s 187ms/step - loss: 0.5334 - accuracy: 0.8394 - val_loss: 0.4270 - val_accuracy: 0.8507\n",
      "Epoch 10/20\n",
      "1670/1670 [==============================] - 313s 188ms/step - loss: 0.5725 - accuracy: 0.8320 - val_loss: 0.6004 - val_accuracy: 0.8229\n",
      "Epoch 11/20\n",
      "1670/1670 [==============================] - 318s 190ms/step - loss: 0.5680 - accuracy: 0.8334 - val_loss: 0.6495 - val_accuracy: 0.7499\n",
      "Epoch 12/20\n",
      "1670/1670 [==============================] - 313s 187ms/step - loss: 0.5640 - accuracy: 0.8299 - val_loss: 0.5134 - val_accuracy: 0.8011\n",
      "Epoch 13/20\n",
      "1670/1670 [==============================] - 314s 188ms/step - loss: 0.6143 - accuracy: 0.8210 - val_loss: 0.6136 - val_accuracy: 0.7708\n",
      "Epoch 14/20\n",
      "1670/1670 [==============================] - 315s 188ms/step - loss: 0.6566 - accuracy: 0.8097 - val_loss: 0.5277 - val_accuracy: 0.8260\n",
      "Epoch 15/20\n",
      "1670/1670 [==============================] - 313s 187ms/step - loss: 0.6851 - accuracy: 0.8079 - val_loss: 0.5179 - val_accuracy: 0.8128\n",
      "Epoch 16/20\n",
      "1670/1670 [==============================] - 313s 188ms/step - loss: 0.6454 - accuracy: 0.8169 - val_loss: 0.5316 - val_accuracy: 0.8130\n",
      "Epoch 17/20\n",
      "1670/1670 [==============================] - 313s 187ms/step - loss: 0.6609 - accuracy: 0.8156 - val_loss: 0.5322 - val_accuracy: 0.8473\n",
      "Epoch 18/20\n",
      "1670/1670 [==============================] - 302s 181ms/step - loss: 0.7038 - accuracy: 0.8022 - val_loss: 0.6836 - val_accuracy: 0.6828\n",
      "Epoch 19/20\n",
      "1670/1670 [==============================] - 313s 187ms/step - loss: 0.7387 - accuracy: 0.7956 - val_loss: 0.5639 - val_accuracy: 0.8114\n",
      "Epoch 20/20\n",
      "1670/1670 [==============================] - 314s 188ms/step - loss: 0.8144 - accuracy: 0.7816 - val_loss: 0.6857 - val_accuracy: 0.8137\n"
     ]
    },
    {
     "data": {
      "text/plain": [
       "<Figure size 576x360 with 0 Axes>"
      ]
     },
     "execution_count": 48,
     "metadata": {},
     "output_type": "execute_result"
    },
    {
     "data": {
      "text/plain": [
       "[<matplotlib.lines.Line2D at 0x7f8061b31a00>]"
      ]
     },
     "execution_count": 48,
     "metadata": {},
     "output_type": "execute_result"
    },
    {
     "data": {
      "text/plain": [
       "[<matplotlib.lines.Line2D at 0x7f8061b31ee0>]"
      ]
     },
     "execution_count": 48,
     "metadata": {},
     "output_type": "execute_result"
    },
    {
     "data": {
      "text/plain": [
       "Text(0.5, 1.0, 'Model Loss')"
      ]
     },
     "execution_count": 48,
     "metadata": {},
     "output_type": "execute_result"
    },
    {
     "data": {
      "text/plain": [
       "Text(0, 0.5, 'Loss')"
      ]
     },
     "execution_count": 48,
     "metadata": {},
     "output_type": "execute_result"
    },
    {
     "data": {
      "text/plain": [
       "Text(0.5, 0, 'Epoch')"
      ]
     },
     "execution_count": 48,
     "metadata": {},
     "output_type": "execute_result"
    },
    {
     "data": {
      "text/plain": [
       "<matplotlib.legend.Legend at 0x7f8061b31c40>"
      ]
     },
     "execution_count": 48,
     "metadata": {},
     "output_type": "execute_result"
    },
    {
     "data": {
      "image/png": "[encoded data removed]",
      "text/plain": [
       "<Figure size 576x360 with 1 Axes>"
      ]
     },
     "metadata": {
      "needs_background": "light"
     },
     "output_type": "display_data"
    },
    {
     "data": {
      "text/plain": [
       "<Figure size 576x360 with 0 Axes>"
      ]
     },
     "execution_count": 48,
     "metadata": {},
     "output_type": "execute_result"
    },
    {
     "data": {
      "text/plain": [
       "[<matplotlib.lines.Line2D at 0x7f8061b8d700>]"
      ]
     },
     "execution_count": 48,
     "metadata": {},
     "output_type": "execute_result"
    },
    {
     "data": {
      "text/plain": [
       "Text(0.5, 1.0, 'Model Accuracy')"
      ]
     },
     "execution_count": 48,
     "metadata": {},
     "output_type": "execute_result"
    },
    {
     "data": {
      "text/plain": [
       "Text(0, 0.5, 'Accuracy')"
      ]
     },
     "execution_count": 48,
     "metadata": {},
     "output_type": "execute_result"
    },
    {
     "data": {
      "text/plain": [
       "Text(0.5, 0, 'Epoch')"
      ]
     },
     "execution_count": 48,
     "metadata": {},
     "output_type": "execute_result"
    },
    {
     "data": {
      "text/plain": [
       "<matplotlib.legend.Legend at 0x7f81a0bc9460>"
      ]
     },
     "execution_count": 48,
     "metadata": {},
     "output_type": "execute_result"
    },
    {
     "data": {
      "image/png": "[encoded data removed]",
      "text/plain": [
       "<Figure size 576x360 with 1 Axes>"
      ]
     },
     "metadata": {
      "needs_background": "light"
     },
     "output_type": "display_data"
    }
   ],
   "source": [
    "history4 = model.fit(X_train, y_train, batch_size=8, epochs=20 , validation_data=(X_valid, y_valid))\n",
    "df_history4 = pd.DataFrame(history4.history)\n",
    "# Plot loss\n",
    "plt.figure(figsize=(8, 5))\n",
    "plt.plot(df_history4['loss'], label='Training Loss')\n",
    "plt.plot(df_history4['val_loss'], label='Validation Loss')\n",
    "plt.title('Model Loss')\n",
    "plt.ylabel('Loss')\n",
    "plt.xlabel('Epoch')\n",
    "plt.legend()\n",
    "plt.grid(True)\n",
    "plt.show()\n",
    "# Plot accuracy\n",
    "plt.figure(figsize=(8, 5))\n",
    "plt.plot(df_history4['val_accuracy'], label='Validation Accuracy')\n",
    "plt.title('Model Accuracy')\n",
    "plt.ylabel('Accuracy')\n",
    "plt.xlabel('Epoch')\n",
    "plt.legend()\n",
    "plt.grid(True)\n",
    "plt.show()"
   ]
  },
  {
   "cell_type": "code",
   "execution_count": 49,
   "id": "678c64ca",
   "metadata": {},
   "outputs": [
    {
     "name": "stdout",
     "output_type": "stream",
     "text": [
      "140/140 [==============================] - 12s 83ms/step - loss: 0.6857 - accuracy: 0.8137\n",
      "loss= 0.6857361793518066\n",
      "accuracy= 0.8136506676673889\n"
     ]
    }
   ],
   "source": [
    "# Evaluating the model\n",
    "score = model.evaluate(X_valid, y_valid)\n",
    "print('loss=', score[0])        \n",
    "print('accuracy=', score[1])    "
   ]
  },
  {
   "cell_type": "code",
   "execution_count": 50,
   "id": "2b116f65",
   "metadata": {},
   "outputs": [],
   "source": [
    "model.save('/Users/wuyuemeng/Desktop/project/my_model3.h5')"
   ]
  },
  {
   "cell_type": "markdown",
   "id": "adf5cfa3",
   "metadata": {},
   "source": [
    "- Batch size: 128"
   ]
  },
  {
   "cell_type": "code",
   "execution_count": 32,
   "id": "fb976a3f",
   "metadata": {
    "scrolled": true
   },
   "outputs": [
    {
     "name": "stdout",
     "output_type": "stream",
     "text": [
      "Epoch 1/20\n",
      "105/105 [==============================] - 150s 1s/step - loss: 1.0939 - accuracy: 0.6253 - val_loss: 0.7854 - val_accuracy: 0.6823\n",
      "Epoch 2/20\n",
      "105/105 [==============================] - 145s 1s/step - loss: 0.6125 - accuracy: 0.7514 - val_loss: 0.4969 - val_accuracy: 0.8184\n",
      "Epoch 3/20\n",
      "105/105 [==============================] - 131s 1s/step - loss: 0.4750 - accuracy: 0.8147 - val_loss: 0.4648 - val_accuracy: 0.8455\n",
      "Epoch 4/20\n",
      "105/105 [==============================] - 141s 1s/step - loss: 0.3888 - accuracy: 0.8519 - val_loss: 0.4041 - val_accuracy: 0.8453\n",
      "Epoch 5/20\n",
      "105/105 [==============================] - 150s 1s/step - loss: 0.3284 - accuracy: 0.8763 - val_loss: 0.4360 - val_accuracy: 0.8264\n",
      "Epoch 6/20\n",
      "105/105 [==============================] - 118s 1s/step - loss: 0.2755 - accuracy: 0.8981 - val_loss: 0.4197 - val_accuracy: 0.8453\n",
      "Epoch 7/20\n",
      "105/105 [==============================] - 144s 1s/step - loss: 0.2184 - accuracy: 0.9177 - val_loss: 0.3350 - val_accuracy: 0.8705\n",
      "Epoch 8/20\n",
      "105/105 [==============================] - 146s 1s/step - loss: 0.1712 - accuracy: 0.9382 - val_loss: 0.3618 - val_accuracy: 0.8691\n",
      "Epoch 9/20\n",
      "105/105 [==============================] - 139s 1s/step - loss: 0.1163 - accuracy: 0.9577 - val_loss: 0.3829 - val_accuracy: 0.8604\n",
      "Epoch 10/20\n",
      "105/105 [==============================] - 146s 1s/step - loss: 0.0983 - accuracy: 0.9667 - val_loss: 0.3813 - val_accuracy: 0.8689\n",
      "Epoch 11/20\n",
      "105/105 [==============================] - 146s 1s/step - loss: 0.0725 - accuracy: 0.9760 - val_loss: 0.4227 - val_accuracy: 0.8680\n",
      "Epoch 12/20\n",
      "105/105 [==============================] - 145s 1s/step - loss: 0.0624 - accuracy: 0.9781 - val_loss: 0.4179 - val_accuracy: 0.8646\n",
      "Epoch 13/20\n",
      "105/105 [==============================] - 148s 1s/step - loss: 0.0468 - accuracy: 0.9838 - val_loss: 0.4938 - val_accuracy: 0.8633\n",
      "Epoch 14/20\n",
      "105/105 [==============================] - 146s 1s/step - loss: 0.0426 - accuracy: 0.9860 - val_loss: 0.5228 - val_accuracy: 0.8673\n",
      "Epoch 15/20\n",
      "105/105 [==============================] - 149s 1s/step - loss: 0.0386 - accuracy: 0.9875 - val_loss: 0.5010 - val_accuracy: 0.8702\n",
      "Epoch 16/20\n",
      "105/105 [==============================] - 147s 1s/step - loss: 0.0326 - accuracy: 0.9894 - val_loss: 0.5496 - val_accuracy: 0.8664\n",
      "Epoch 17/20\n",
      "105/105 [==============================] - 145s 1s/step - loss: 0.0404 - accuracy: 0.9882 - val_loss: 0.4527 - val_accuracy: 0.8705\n",
      "Epoch 18/20\n",
      "105/105 [==============================] - 145s 1s/step - loss: 0.0269 - accuracy: 0.9909 - val_loss: 0.6620 - val_accuracy: 0.8687\n",
      "Epoch 19/20\n",
      "105/105 [==============================] - 143s 1s/step - loss: 0.0212 - accuracy: 0.9934 - val_loss: 0.5643 - val_accuracy: 0.8734\n",
      "Epoch 20/20\n",
      "105/105 [==============================] - 144s 1s/step - loss: 0.0492 - accuracy: 0.9881 - val_loss: 0.5746 - val_accuracy: 0.8752\n"
     ]
    },
    {
     "data": {
      "text/plain": [
       "<Figure size 576x360 with 0 Axes>"
      ]
     },
     "execution_count": 32,
     "metadata": {},
     "output_type": "execute_result"
    },
    {
     "data": {
      "text/plain": [
       "[<matplotlib.lines.Line2D at 0x7f81a09dc7f0>]"
      ]
     },
     "execution_count": 32,
     "metadata": {},
     "output_type": "execute_result"
    },
    {
     "data": {
      "text/plain": [
       "[<matplotlib.lines.Line2D at 0x7f81a09dcb50>]"
      ]
     },
     "execution_count": 32,
     "metadata": {},
     "output_type": "execute_result"
    },
    {
     "data": {
      "text/plain": [
       "Text(0.5, 1.0, 'Model Loss')"
      ]
     },
     "execution_count": 32,
     "metadata": {},
     "output_type": "execute_result"
    },
    {
     "data": {
      "text/plain": [
       "Text(0, 0.5, 'Loss')"
      ]
     },
     "execution_count": 32,
     "metadata": {},
     "output_type": "execute_result"
    },
    {
     "data": {
      "text/plain": [
       "Text(0.5, 0, 'Epoch')"
      ]
     },
     "execution_count": 32,
     "metadata": {},
     "output_type": "execute_result"
    },
    {
     "data": {
      "text/plain": [
       "<matplotlib.legend.Legend at 0x7f81a09c5310>"
      ]
     },
     "execution_count": 32,
     "metadata": {},
     "output_type": "execute_result"
    },
    {
     "data": {
      "image/png": "[encoded data removed]",
      "text/plain": [
       "<Figure size 576x360 with 1 Axes>"
      ]
     },
     "metadata": {
      "needs_background": "light"
     },
     "output_type": "display_data"
    },
    {
     "data": {
      "text/plain": [
       "<Figure size 576x360 with 0 Axes>"
      ]
     },
     "execution_count": 32,
     "metadata": {},
     "output_type": "execute_result"
    },
    {
     "data": {
      "text/plain": [
       "[<matplotlib.lines.Line2D at 0x7f81a0e3d880>]"
      ]
     },
     "execution_count": 32,
     "metadata": {},
     "output_type": "execute_result"
    },
    {
     "data": {
      "text/plain": [
       "Text(0.5, 1.0, 'Model Accuracy')"
      ]
     },
     "execution_count": 32,
     "metadata": {},
     "output_type": "execute_result"
    },
    {
     "data": {
      "text/plain": [
       "Text(0, 0.5, 'Accuracy')"
      ]
     },
     "execution_count": 32,
     "metadata": {},
     "output_type": "execute_result"
    },
    {
     "data": {
      "text/plain": [
       "Text(0.5, 0, 'Epoch')"
      ]
     },
     "execution_count": 32,
     "metadata": {},
     "output_type": "execute_result"
    },
    {
     "data": {
      "text/plain": [
       "<matplotlib.legend.Legend at 0x7f81a0baf160>"
      ]
     },
     "execution_count": 32,
     "metadata": {},
     "output_type": "execute_result"
    },
    {
     "data": {
      "image/png": "[encoded data removed]",
      "text/plain": [
       "<Figure size 576x360 with 1 Axes>"
      ]
     },
     "metadata": {
      "needs_background": "light"
     },
     "output_type": "display_data"
    }
   ],
   "source": [
    "history5 = model.fit(X_train, y_train, batch_size=128, epochs=20 , validation_data=(X_valid, y_valid))\n",
    "df_history5 = pd.DataFrame(history5.history)\n",
    "# Plot loss\n",
    "plt.figure(figsize=(8, 5))\n",
    "plt.plot(df_history5['loss'], label='Training Loss')\n",
    "plt.plot(df_history5['val_loss'], label='Validation Loss')\n",
    "plt.title('Model Loss')\n",
    "plt.ylabel('Loss')\n",
    "plt.xlabel('Epoch')\n",
    "plt.legend()\n",
    "plt.grid(True)\n",
    "plt.show()\n",
    "# Plot accuracy\n",
    "plt.figure(figsize=(8, 5))\n",
    "plt.plot(df_history5['val_accuracy'], label='Validation Accuracy')\n",
    "plt.title('Model Accuracy')\n",
    "plt.ylabel('Accuracy')\n",
    "plt.xlabel('Epoch')\n",
    "plt.legend()\n",
    "plt.grid(True)\n",
    "plt.show()"
   ]
  },
  {
   "cell_type": "code",
   "execution_count": 33,
   "id": "766d0b17",
   "metadata": {},
   "outputs": [
    {
     "name": "stdout",
     "output_type": "stream",
     "text": [
      "140/140 [==============================] - 12s 86ms/step - loss: 0.5746 - accuracy: 0.8752\n",
      "loss= 0.5746409296989441\n",
      "accuracy= 0.8751683831214905\n"
     ]
    }
   ],
   "source": [
    "# Evaluating the model\n",
    "score = model.evaluate(X_valid, y_valid)\n",
    "print('loss=', score[0])        \n",
    "print('accuracy=', score[1])    "
   ]
  },
  {
   "cell_type": "code",
   "execution_count": 34,
   "id": "d8b39ecd",
   "metadata": {},
   "outputs": [],
   "source": [
    "model.save('/Users/wuyuemeng/Desktop/project/my_model4.h5')"
   ]
  },
  {
   "cell_type": "markdown",
   "id": "6e1351ba",
   "metadata": {},
   "source": [
    "- Batch size: 64"
   ]
  },
  {
   "cell_type": "code",
   "execution_count": 21,
   "id": "a975722d",
   "metadata": {
    "scrolled": true
   },
   "outputs": [
    {
     "name": "stdout",
     "output_type": "stream",
     "text": [
      "Epoch 1/20\n",
      "209/209 [==============================] - 162s 762ms/step - loss: 0.8733 - accuracy: 0.6792 - val_loss: 0.5342 - val_accuracy: 0.8031\n",
      "Epoch 2/20\n",
      "209/209 [==============================] - 152s 727ms/step - loss: 0.4993 - accuracy: 0.8081 - val_loss: 0.4403 - val_accuracy: 0.8413\n",
      "Epoch 3/20\n",
      "209/209 [==============================] - 125s 594ms/step - loss: 0.3852 - accuracy: 0.8558 - val_loss: 0.4259 - val_accuracy: 0.8449\n",
      "Epoch 4/20\n",
      "209/209 [==============================] - 153s 731ms/step - loss: 0.3152 - accuracy: 0.8834 - val_loss: 0.3755 - val_accuracy: 0.8563\n",
      "Epoch 5/20\n",
      "209/209 [==============================] - 154s 738ms/step - loss: 0.2557 - accuracy: 0.9055 - val_loss: 0.3788 - val_accuracy: 0.8714\n",
      "Epoch 6/20\n",
      "209/209 [==============================] - 156s 747ms/step - loss: 0.1939 - accuracy: 0.9284 - val_loss: 0.3644 - val_accuracy: 0.8653\n",
      "Epoch 7/20\n",
      "209/209 [==============================] - 155s 740ms/step - loss: 0.1475 - accuracy: 0.9472 - val_loss: 0.3777 - val_accuracy: 0.8675\n",
      "Epoch 8/20\n",
      "209/209 [==============================] - 154s 739ms/step - loss: 0.1066 - accuracy: 0.9621 - val_loss: 0.4071 - val_accuracy: 0.8727\n",
      "Epoch 9/20\n",
      "209/209 [==============================] - 155s 743ms/step - loss: 0.0877 - accuracy: 0.9702 - val_loss: 0.4323 - val_accuracy: 0.8682\n",
      "Epoch 10/20\n",
      "209/209 [==============================] - 155s 743ms/step - loss: 0.0739 - accuracy: 0.9762 - val_loss: 0.4398 - val_accuracy: 0.8745\n",
      "Epoch 11/20\n",
      "209/209 [==============================] - 155s 739ms/step - loss: 0.0652 - accuracy: 0.9783 - val_loss: 0.5399 - val_accuracy: 0.8583\n",
      "Epoch 12/20\n",
      "209/209 [==============================] - 156s 747ms/step - loss: 0.0508 - accuracy: 0.9847 - val_loss: 0.6216 - val_accuracy: 0.8523\n",
      "Epoch 13/20\n",
      "209/209 [==============================] - 156s 744ms/step - loss: 0.0503 - accuracy: 0.9852 - val_loss: 0.4885 - val_accuracy: 0.8767\n",
      "Epoch 14/20\n",
      "209/209 [==============================] - 158s 758ms/step - loss: 0.0515 - accuracy: 0.9860 - val_loss: 0.6277 - val_accuracy: 0.8756\n",
      "Epoch 15/20\n",
      "209/209 [==============================] - 155s 743ms/step - loss: 0.0374 - accuracy: 0.9879 - val_loss: 0.5681 - val_accuracy: 0.8673\n",
      "Epoch 16/20\n",
      "209/209 [==============================] - 156s 747ms/step - loss: 0.0435 - accuracy: 0.9875 - val_loss: 0.7150 - val_accuracy: 0.8725\n",
      "Epoch 17/20\n",
      "209/209 [==============================] - 155s 741ms/step - loss: 0.0379 - accuracy: 0.9891 - val_loss: 0.6869 - val_accuracy: 0.8716\n",
      "Epoch 18/20\n",
      "209/209 [==============================] - 157s 749ms/step - loss: 0.0377 - accuracy: 0.9896 - val_loss: 0.6590 - val_accuracy: 0.8682\n",
      "Epoch 19/20\n",
      "209/209 [==============================] - 156s 745ms/step - loss: 0.0406 - accuracy: 0.9895 - val_loss: 0.7156 - val_accuracy: 0.8718\n",
      "Epoch 20/20\n",
      "209/209 [==============================] - 155s 740ms/step - loss: 0.0317 - accuracy: 0.9905 - val_loss: 0.8214 - val_accuracy: 0.8586\n"
     ]
    },
    {
     "data": {
      "text/plain": [
       "<Figure size 576x360 with 0 Axes>"
      ]
     },
     "execution_count": 21,
     "metadata": {},
     "output_type": "execute_result"
    },
    {
     "data": {
      "text/plain": [
       "[<matplotlib.lines.Line2D at 0x7f82e0dbb040>]"
      ]
     },
     "execution_count": 21,
     "metadata": {},
     "output_type": "execute_result"
    },
    {
     "data": {
      "text/plain": [
       "[<matplotlib.lines.Line2D at 0x7f82e0dbb400>]"
      ]
     },
     "execution_count": 21,
     "metadata": {},
     "output_type": "execute_result"
    },
    {
     "data": {
      "text/plain": [
       "Text(0.5, 1.0, 'Model Loss')"
      ]
     },
     "execution_count": 21,
     "metadata": {},
     "output_type": "execute_result"
    },
    {
     "data": {
      "text/plain": [
       "Text(0, 0.5, 'Loss')"
      ]
     },
     "execution_count": 21,
     "metadata": {},
     "output_type": "execute_result"
    },
    {
     "data": {
      "text/plain": [
       "Text(0.5, 0, 'Epoch')"
      ]
     },
     "execution_count": 21,
     "metadata": {},
     "output_type": "execute_result"
    },
    {
     "data": {
      "text/plain": [
       "<matplotlib.legend.Legend at 0x7f82e0da4f10>"
      ]
     },
     "execution_count": 21,
     "metadata": {},
     "output_type": "execute_result"
    },
    {
     "data": {
      "image/png": "[encoded data removed]",
      "text/plain": [
       "<Figure size 576x360 with 1 Axes>"
      ]
     },
     "metadata": {
      "needs_background": "light"
     },
     "output_type": "display_data"
    },
    {
     "data": {
      "text/plain": [
       "<Figure size 576x360 with 0 Axes>"
      ]
     },
     "execution_count": 21,
     "metadata": {},
     "output_type": "execute_result"
    },
    {
     "data": {
      "text/plain": [
       "[<matplotlib.lines.Line2D at 0x7f82e1034cd0>]"
      ]
     },
     "execution_count": 21,
     "metadata": {},
     "output_type": "execute_result"
    },
    {
     "data": {
      "text/plain": [
       "Text(0.5, 1.0, 'Model Accuracy')"
      ]
     },
     "execution_count": 21,
     "metadata": {},
     "output_type": "execute_result"
    },
    {
     "data": {
      "text/plain": [
       "Text(0, 0.5, 'Accuracy')"
      ]
     },
     "execution_count": 21,
     "metadata": {},
     "output_type": "execute_result"
    },
    {
     "data": {
      "text/plain": [
       "Text(0.5, 0, 'Epoch')"
      ]
     },
     "execution_count": 21,
     "metadata": {},
     "output_type": "execute_result"
    },
    {
     "data": {
      "text/plain": [
       "<matplotlib.legend.Legend at 0x7f82e101e5e0>"
      ]
     },
     "execution_count": 21,
     "metadata": {},
     "output_type": "execute_result"
    },
    {
     "data": {
      "image/png": "[encoded data removed]",
      "text/plain": [
       "<Figure size 576x360 with 1 Axes>"
      ]
     },
     "metadata": {
      "needs_background": "light"
     },
     "output_type": "display_data"
    }
   ],
   "source": [
    "history2 = model.fit(X_train, y_train, batch_size=64, epochs=20 , validation_data=(X_valid, y_valid))\n",
    "df_history2 = pd.DataFrame(history2.history)\n",
    "# Plot loss\n",
    "plt.figure(figsize=(8, 5))\n",
    "plt.plot(df_history2['loss'], label='Training Loss')\n",
    "plt.plot(df_history2['val_loss'], label='Validation Loss')\n",
    "plt.title('Model Loss')\n",
    "plt.ylabel('Loss')\n",
    "plt.xlabel('Epoch')\n",
    "plt.legend()\n",
    "plt.grid(True)\n",
    "plt.show()\n",
    "\n",
    "# Plot accuracy\n",
    "plt.figure(figsize=(8, 5))\n",
    "plt.plot(df_history2['val_accuracy'], label='Validation Accuracy')\n",
    "plt.title('Model Accuracy')\n",
    "plt.ylabel('Accuracy')\n",
    "plt.xlabel('Epoch')\n",
    "plt.legend()\n",
    "plt.grid(True)\n",
    "plt.show()"
   ]
  },
  {
   "cell_type": "code",
   "execution_count": 22,
   "id": "e48b5fb4",
   "metadata": {},
   "outputs": [
    {
     "name": "stdout",
     "output_type": "stream",
     "text": [
      "140/140 [==============================] - 10s 73ms/step - loss: 0.8214 - accuracy: 0.8586\n",
      "loss= 0.8214033842086792\n",
      "accuracy= 0.8585541248321533\n"
     ]
    }
   ],
   "source": [
    "# Evaluating the model\n",
    "score = model.evaluate(X_valid, y_valid)\n",
    "print('loss=', score[0])       \n",
    "print('accuracy=', score[1])   "
   ]
  },
  {
   "cell_type": "code",
   "execution_count": 23,
   "id": "333ba909",
   "metadata": {},
   "outputs": [],
   "source": [
    "model.save('/Users/wuyuemeng/Desktop/project/my_model1.h5')"
   ]
  },
  {
   "cell_type": "markdown",
   "id": "55cf6cb0",
   "metadata": {},
   "source": [
    "- Batch size: 16"
   ]
  },
  {
   "cell_type": "code",
   "execution_count": 38,
   "id": "e620bb03",
   "metadata": {
    "scrolled": true
   },
   "outputs": [
    {
     "name": "stdout",
     "output_type": "stream",
     "text": [
      "Epoch 1/20\n",
      "835/835 [==============================] - 218s 260ms/step - loss: 0.7430 - accuracy: 0.7414 - val_loss: 0.4961 - val_accuracy: 0.8321\n",
      "Epoch 2/20\n",
      "835/835 [==============================] - 218s 261ms/step - loss: 0.4593 - accuracy: 0.8345 - val_loss: 0.3984 - val_accuracy: 0.8543\n",
      "Epoch 3/20\n",
      "835/835 [==============================] - 219s 262ms/step - loss: 0.3815 - accuracy: 0.8638 - val_loss: 0.4038 - val_accuracy: 0.8500\n",
      "Epoch 4/20\n",
      "835/835 [==============================] - 226s 271ms/step - loss: 0.3507 - accuracy: 0.8772 - val_loss: 0.3990 - val_accuracy: 0.8525\n",
      "Epoch 5/20\n",
      "835/835 [==============================] - 227s 272ms/step - loss: 0.3327 - accuracy: 0.8856 - val_loss: 0.4150 - val_accuracy: 0.8559\n",
      "Epoch 6/20\n",
      "835/835 [==============================] - 223s 267ms/step - loss: 0.3114 - accuracy: 0.8930 - val_loss: 0.3781 - val_accuracy: 0.8633\n",
      "Epoch 7/20\n",
      "835/835 [==============================] - 228s 273ms/step - loss: 0.2907 - accuracy: 0.9032 - val_loss: 0.3953 - val_accuracy: 0.8646\n",
      "Epoch 8/20\n",
      "835/835 [==============================] - 226s 271ms/step - loss: 0.2931 - accuracy: 0.9062 - val_loss: 0.7787 - val_accuracy: 0.8121\n",
      "Epoch 9/20\n",
      "835/835 [==============================] - 226s 271ms/step - loss: 0.2860 - accuracy: 0.9103 - val_loss: 0.5506 - val_accuracy: 0.8637\n",
      "Epoch 10/20\n",
      "835/835 [==============================] - 226s 271ms/step - loss: 0.2897 - accuracy: 0.9123 - val_loss: 0.6495 - val_accuracy: 0.8617\n",
      "Epoch 11/20\n",
      "835/835 [==============================] - 229s 275ms/step - loss: 0.2965 - accuracy: 0.9110 - val_loss: 0.4441 - val_accuracy: 0.8637\n",
      "Epoch 12/20\n",
      "835/835 [==============================] - 229s 275ms/step - loss: 0.2765 - accuracy: 0.9185 - val_loss: 0.5270 - val_accuracy: 0.8705\n",
      "Epoch 13/20\n",
      "835/835 [==============================] - 233s 279ms/step - loss: 0.2902 - accuracy: 0.9192 - val_loss: 0.4711 - val_accuracy: 0.8718\n",
      "Epoch 14/20\n",
      "835/835 [==============================] - 229s 275ms/step - loss: 0.2882 - accuracy: 0.9242 - val_loss: 0.7173 - val_accuracy: 0.8476\n",
      "Epoch 15/20\n",
      "835/835 [==============================] - 230s 275ms/step - loss: 0.2948 - accuracy: 0.9204 - val_loss: 0.6020 - val_accuracy: 0.8626\n",
      "Epoch 16/20\n",
      "835/835 [==============================] - 230s 275ms/step - loss: 0.3205 - accuracy: 0.9218 - val_loss: 0.5662 - val_accuracy: 0.8464\n",
      "Epoch 17/20\n",
      "835/835 [==============================] - 231s 277ms/step - loss: 0.2810 - accuracy: 0.9290 - val_loss: 0.6038 - val_accuracy: 0.8619\n",
      "Epoch 18/20\n",
      "835/835 [==============================] - 211s 253ms/step - loss: 0.2817 - accuracy: 0.9273 - val_loss: 0.7997 - val_accuracy: 0.8682\n",
      "Epoch 19/20\n",
      "835/835 [==============================] - 230s 275ms/step - loss: 0.3101 - accuracy: 0.9263 - val_loss: 0.6474 - val_accuracy: 0.8709\n",
      "Epoch 20/20\n",
      "835/835 [==============================] - 230s 276ms/step - loss: 0.2974 - accuracy: 0.9263 - val_loss: 0.6009 - val_accuracy: 0.8639\n"
     ]
    },
    {
     "data": {
      "text/plain": [
       "<Figure size 576x360 with 0 Axes>"
      ]
     },
     "execution_count": 38,
     "metadata": {},
     "output_type": "execute_result"
    },
    {
     "data": {
      "text/plain": [
       "[<matplotlib.lines.Line2D at 0x7f81509044f0>]"
      ]
     },
     "execution_count": 38,
     "metadata": {},
     "output_type": "execute_result"
    },
    {
     "data": {
      "text/plain": [
       "[<matplotlib.lines.Line2D at 0x7f81a0da84f0>]"
      ]
     },
     "execution_count": 38,
     "metadata": {},
     "output_type": "execute_result"
    },
    {
     "data": {
      "text/plain": [
       "Text(0.5, 1.0, 'Model Loss')"
      ]
     },
     "execution_count": 38,
     "metadata": {},
     "output_type": "execute_result"
    },
    {
     "data": {
      "text/plain": [
       "Text(0, 0.5, 'Loss')"
      ]
     },
     "execution_count": 38,
     "metadata": {},
     "output_type": "execute_result"
    },
    {
     "data": {
      "text/plain": [
       "Text(0.5, 0, 'Epoch')"
      ]
     },
     "execution_count": 38,
     "metadata": {},
     "output_type": "execute_result"
    },
    {
     "data": {
      "text/plain": [
       "<matplotlib.legend.Legend at 0x7f81a0da81c0>"
      ]
     },
     "execution_count": 38,
     "metadata": {},
     "output_type": "execute_result"
    },
    {
     "data": {
      "image/png": "[encoded data removed]",
      "text/plain": [
       "<Figure size 576x360 with 1 Axes>"
      ]
     },
     "metadata": {
      "needs_background": "light"
     },
     "output_type": "display_data"
    },
    {
     "data": {
      "text/plain": [
       "<Figure size 576x360 with 0 Axes>"
      ]
     },
     "execution_count": 38,
     "metadata": {},
     "output_type": "execute_result"
    },
    {
     "data": {
      "text/plain": [
       "[<matplotlib.lines.Line2D at 0x7f815118ac40>]"
      ]
     },
     "execution_count": 38,
     "metadata": {},
     "output_type": "execute_result"
    },
    {
     "data": {
      "text/plain": [
       "Text(0.5, 1.0, 'Model Accuracy')"
      ]
     },
     "execution_count": 38,
     "metadata": {},
     "output_type": "execute_result"
    },
    {
     "data": {
      "text/plain": [
       "Text(0, 0.5, 'Accuracy')"
      ]
     },
     "execution_count": 38,
     "metadata": {},
     "output_type": "execute_result"
    },
    {
     "data": {
      "text/plain": [
       "Text(0.5, 0, 'Epoch')"
      ]
     },
     "execution_count": 38,
     "metadata": {},
     "output_type": "execute_result"
    },
    {
     "data": {
      "text/plain": [
       "<matplotlib.legend.Legend at 0x7f8151180b50>"
      ]
     },
     "execution_count": 38,
     "metadata": {},
     "output_type": "execute_result"
    },
    {
     "data": {
      "image/png": "[encoded data removed]",
      "text/plain": [
       "<Figure size 576x360 with 1 Axes>"
      ]
     },
     "metadata": {
      "needs_background": "light"
     },
     "output_type": "display_data"
    }
   ],
   "source": [
    "history3 = model.fit(X_train, y_train, batch_size=16, epochs=20 , validation_data=(X_valid, y_valid))\n",
    "df_history3 = pd.DataFrame(history3.history)\n",
    "# Plot loss\n",
    "plt.figure(figsize=(8, 5))\n",
    "plt.plot(df_history3['loss'], label='Training Loss')\n",
    "plt.plot(df_history3['val_loss'], label='Validation Loss')\n",
    "plt.title('Model Loss')\n",
    "plt.ylabel('Loss')\n",
    "plt.xlabel('Epoch')\n",
    "plt.legend()\n",
    "plt.grid(True)\n",
    "plt.show()\n",
    "\n",
    "# Plot accuracy\n",
    "plt.figure(figsize=(8, 5))\n",
    "plt.plot(df_history3['val_accuracy'], label='Validation Accuracy')\n",
    "plt.title('Model Accuracy')\n",
    "plt.ylabel('Accuracy')\n",
    "plt.xlabel('Epoch')\n",
    "plt.legend()\n",
    "plt.grid(True)\n",
    "plt.show()"
   ]
  },
  {
   "cell_type": "code",
   "execution_count": 39,
   "id": "c6721805",
   "metadata": {},
   "outputs": [
    {
     "name": "stdout",
     "output_type": "stream",
     "text": [
      "140/140 [==============================] - 10s 74ms/step - loss: 0.6009 - accuracy: 0.8639\n",
      "loss= 0.6009343862533569\n",
      "accuracy= 0.8639425039291382\n"
     ]
    }
   ],
   "source": [
    "# Evaluating the model\n",
    "score = model.evaluate(X_valid, y_valid)\n",
    "print('loss=', score[0])        \n",
    "print('accuracy=', score[1])    "
   ]
  },
  {
   "cell_type": "code",
   "execution_count": 40,
   "id": "bd3caee9",
   "metadata": {},
   "outputs": [],
   "source": [
    "model.save('/Users/wuyuemeng/Desktop/project/my_model2.h5')"
   ]
  },
  {
   "cell_type": "markdown",
   "id": "f203b0f3",
   "metadata": {},
   "source": [
    "- load model"
   ]
  },
  {
   "cell_type": "code",
   "execution_count": 51,
   "id": "823daea8",
   "metadata": {},
   "outputs": [],
   "source": [
    "model = load_model('/Users/wuyuemeng/Desktop/project/my_model.h5')"
   ]
  },
  {
   "cell_type": "markdown",
   "id": "93c67070",
   "metadata": {},
   "source": [
    "- Test a random thumbnail"
   ]
  },
  {
   "cell_type": "code",
   "execution_count": 52,
   "id": "dbb47a0d",
   "metadata": {},
   "outputs": [
    {
     "data": {
      "text/plain": [
       "(1, 64, 64, 3)"
      ]
     },
     "execution_count": 52,
     "metadata": {},
     "output_type": "execute_result"
    }
   ],
   "source": [
    "image_w = 64 \n",
    "image_h = 64\n",
    "pixels = image_w * image_h * 3\n",
    "\n",
    "i = \"https://i.ytimg.com/vi/cWNpW-vV5tQ/hqdefault.jpg?sqp=-oaymwEcCNACELwBSFXyq4qpAw4IARUAAIhCGAFwAcABBg==&rs=AOn4CLCT95v2PFPwugF2PmZ4mzMVtm56Yw\"\n",
    "# category: food\n",
    "\n",
    "url = i+str('.jpg')\n",
    "response = requests.get(url, stream=True) \n",
    "test_img= Image.open(io.BytesIO(response.content)) \n",
    "\n",
    "test_img = test_img.convert(\"RGB\")\n",
    "test_img = test_img.resize((image_w, image_h))\n",
    "test_img = image.img_to_array(test_img)\n",
    "\n",
    "test_img = preprocess_input(test_img)\n",
    "test_img = test_img.astype(\"float\") / 64.0\n",
    "test_img = test_img.reshape(-1, 64, 64, 3)\n",
    "test_img.shape"
   ]
  },
  {
   "cell_type": "code",
   "execution_count": 53,
   "id": "70a9584c",
   "metadata": {},
   "outputs": [
    {
     "name": "stdout",
     "output_type": "stream",
     "text": [
      "1/1 [==============================] - 1s 774ms/step\n"
     ]
    },
    {
     "data": {
      "text/plain": [
       "array([[4.0668265e-06, 1.7226212e-05, 9.9997866e-01]], dtype=float32)"
      ]
     },
     "execution_count": 53,
     "metadata": {},
     "output_type": "execute_result"
    },
    {
     "name": "stdout",
     "output_type": "stream",
     "text": [
      "data category :  2\n"
     ]
    }
   ],
   "source": [
    "pred = model.predict(test_img)  \n",
    "pred\n",
    "result = [np.argmax(value) for value in pred]   # Returns the class with the highest predicted value\n",
    "print('data category : ',categories[result[0]])\n",
    "# category ( 0: sport , 1: pet, 2: food )"
   ]
  },
  {
   "cell_type": "code",
   "execution_count": null,
   "id": "b9b5c1a2",
   "metadata": {},
   "outputs": [],
   "source": []
  }
 ],
 "metadata": {
  "kernelspec": {
   "display_name": "Python 3 (ipykernel)",
   "language": "python",
   "name": "python3"
  },
  "language_info": {
   "codemirror_mode": {
    "name": "ipython",
    "version": 3
   },
   "file_extension": ".py",
   "mimetype": "text/x-python",
   "name": "python",
   "nbconvert_exporter": "python",
   "pygments_lexer": "ipython3",
   "version": "3.9.12"
  }
 },
 "nbformat": 4,
 "nbformat_minor": 5
}
