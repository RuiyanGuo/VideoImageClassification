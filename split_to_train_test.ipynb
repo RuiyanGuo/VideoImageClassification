{
 "cells": [
  {
   "cell_type": "code",
   "execution_count": 1,
   "id": "81a430d4",
   "metadata": {},
   "outputs": [
    {
     "name": "stderr",
     "output_type": "stream",
     "text": [
      "/var/folders/yv/8sn4_mf155d8ltwrkhtfcqm00000gn/T/ipykernel_19024/265164613.py:5: DeprecationWarning: Importing display from IPython.core.display is deprecated since IPython 7.14, please import from IPython display\n",
      "  from IPython.core.display import display, HTML\n"
     ]
    },
    {
     "data": {
      "text/html": [
       "<style>.container { width:100% !important; }</style>"
      ],
      "text/plain": [
       "<IPython.core.display.HTML object>"
      ]
     },
     "metadata": {},
     "output_type": "display_data"
    }
   ],
   "source": [
    "import glob\n",
    "import os\n",
    "\n",
    "import pandas as pd\n",
    "from IPython.core.display import display, HTML\n",
    "display(HTML(\"<style>.container { width:100% !important; }</style>\"))\n",
    "\n",
    "pd.set_option('display.max.colwidth',60)\n",
    "pd.options.display.max_columns = 100\n",
    "\n",
    "from IPython.core.interactiveshell import InteractiveShell\n",
    "InteractiveShell.ast_node_interactivity = \"all\""
   ]
  },
  {
   "cell_type": "markdown",
   "id": "1ae59ccd",
   "metadata": {},
   "source": [
    "# Configuring the entire dataset"
   ]
  },
  {
   "cell_type": "code",
   "execution_count": 15,
   "id": "ad2d92db",
   "metadata": {},
   "outputs": [
    {
     "data": {
      "text/plain": [
       "['/Users/wuyuemeng/Desktop/project/real_dataset2/sport_complete.csv',\n",
       " '/Users/wuyuemeng/Desktop/project/real_dataset2/pet_complete.csv',\n",
       " '/Users/wuyuemeng/Desktop/project/real_dataset2/food_complete.csv']"
      ]
     },
     "execution_count": 15,
     "metadata": {},
     "output_type": "execute_result"
    }
   ],
   "source": [
    "input_file = r'/Users/wuyuemeng/Desktop/project/real_dataset2'\n",
    "allfile_list = glob.glob(os.path.join(input_file,'*.csv'))\n",
    "allfile_list"
   ]
  },
  {
   "cell_type": "code",
   "execution_count": 16,
   "id": "d3c330c7",
   "metadata": {},
   "outputs": [
    {
     "data": {
      "text/plain": [
       "(22266, 3)"
      ]
     },
     "execution_count": 16,
     "metadata": {},
     "output_type": "execute_result"
    },
    {
     "data": {
      "text/html": [
       "<div>\n",
       "<style scoped>\n",
       "    .dataframe tbody tr th:only-of-type {\n",
       "        vertical-align: middle;\n",
       "    }\n",
       "\n",
       "    .dataframe tbody tr th {\n",
       "        vertical-align: top;\n",
       "    }\n",
       "\n",
       "    .dataframe thead th {\n",
       "        text-align: right;\n",
       "    }\n",
       "</style>\n",
       "<table border=\"1\" class=\"dataframe\">\n",
       "  <thead>\n",
       "    <tr style=\"text-align: right;\">\n",
       "      <th></th>\n",
       "      <th>Unnamed: 0</th>\n",
       "      <th>thumbnail</th>\n",
       "      <th>category</th>\n",
       "    </tr>\n",
       "  </thead>\n",
       "  <tbody>\n",
       "    <tr>\n",
       "      <th>0</th>\n",
       "      <td>0</td>\n",
       "      <td>https://i.ytimg.com/vi/P8sKtG-VLZI/hqdefault.jpg?sqp=-oa...</td>\n",
       "      <td>sport</td>\n",
       "    </tr>\n",
       "    <tr>\n",
       "      <th>1</th>\n",
       "      <td>1</td>\n",
       "      <td>https://i.ytimg.com/vi/9asUxE9beJo/hqdefault.jpg?sqp=-oa...</td>\n",
       "      <td>sport</td>\n",
       "    </tr>\n",
       "    <tr>\n",
       "      <th>2</th>\n",
       "      <td>2</td>\n",
       "      <td>https://i.ytimg.com/vi/E4N8K6qWEx8/hqdefault.jpg?sqp=-oa...</td>\n",
       "      <td>sport</td>\n",
       "    </tr>\n",
       "    <tr>\n",
       "      <th>3</th>\n",
       "      <td>3</td>\n",
       "      <td>https://i.ytimg.com/vi/9fufKujxeM0/hqdefault.jpg?sqp=-oa...</td>\n",
       "      <td>sport</td>\n",
       "    </tr>\n",
       "    <tr>\n",
       "      <th>4</th>\n",
       "      <td>4</td>\n",
       "      <td>https://i.ytimg.com/vi/rv2SsK1hies/hqdefault.jpg?sqp=-oa...</td>\n",
       "      <td>sport</td>\n",
       "    </tr>\n",
       "  </tbody>\n",
       "</table>\n",
       "</div>"
      ],
      "text/plain": [
       "   Unnamed: 0                                                    thumbnail  \\\n",
       "0           0  https://i.ytimg.com/vi/P8sKtG-VLZI/hqdefault.jpg?sqp=-oa...   \n",
       "1           1  https://i.ytimg.com/vi/9asUxE9beJo/hqdefault.jpg?sqp=-oa...   \n",
       "2           2  https://i.ytimg.com/vi/E4N8K6qWEx8/hqdefault.jpg?sqp=-oa...   \n",
       "3           3  https://i.ytimg.com/vi/9fufKujxeM0/hqdefault.jpg?sqp=-oa...   \n",
       "4           4  https://i.ytimg.com/vi/rv2SsK1hies/hqdefault.jpg?sqp=-oa...   \n",
       "\n",
       "  category  \n",
       "0    sport  \n",
       "1    sport  \n",
       "2    sport  \n",
       "3    sport  \n",
       "4    sport  "
      ]
     },
     "execution_count": 16,
     "metadata": {},
     "output_type": "execute_result"
    }
   ],
   "source": [
    "all_data=[]\n",
    "for file in allfile_list:\n",
    "    try : \n",
    "        df=pd.read_csv(file,encoding='utf-8')\n",
    "        all_data.append(df)\n",
    "    except UnicodeDecodeError as e:\n",
    "        e, file\n",
    "    \n",
    "data_combine = pd.concat(all_data, axis=0, ignore_index=True, sort=False)\n",
    "data_combine.shape\n",
    "data_combine.head()"
   ]
  },
  {
   "cell_type": "code",
   "execution_count": 17,
   "id": "957aa5a5",
   "metadata": {},
   "outputs": [
    {
     "data": {
      "text/plain": [
       "food     7781\n",
       "sport    7297\n",
       "pet      7188\n",
       "Name: category, dtype: int64"
      ]
     },
     "execution_count": 17,
     "metadata": {},
     "output_type": "execute_result"
    }
   ],
   "source": [
    "data_combine['category'].value_counts()"
   ]
  },
  {
   "cell_type": "code",
   "execution_count": 18,
   "id": "d82cf791",
   "metadata": {},
   "outputs": [
    {
     "data": {
      "text/plain": [
       "Index(['Unnamed: 0', 'thumbnail', 'category'], dtype='object')"
      ]
     },
     "execution_count": 18,
     "metadata": {},
     "output_type": "execute_result"
    }
   ],
   "source": [
    "data_combine.columns"
   ]
  },
  {
   "cell_type": "code",
   "execution_count": 6,
   "id": "7139c87f",
   "metadata": {},
   "outputs": [],
   "source": [
    "data_combine = data_combine[['thumbnail', 'category']]"
   ]
  },
  {
   "cell_type": "code",
   "execution_count": 19,
   "id": "2052a36f",
   "metadata": {},
   "outputs": [],
   "source": [
    "data_combine.to_csv('/Users/wuyuemeng/Desktop/project/real_dataset2/total_dataset.csv',encoding='utf-8-sig')"
   ]
  },
  {
   "cell_type": "markdown",
   "id": "39c828fd",
   "metadata": {},
   "source": [
    "# Data preprocessing"
   ]
  },
  {
   "cell_type": "code",
   "execution_count": 20,
   "id": "f8709de4",
   "metadata": {},
   "outputs": [],
   "source": [
    "df = data_combine"
   ]
  },
  {
   "cell_type": "code",
   "execution_count": 21,
   "id": "bbf76da2",
   "metadata": {},
   "outputs": [],
   "source": [
    "df['category_id'] = df['category'].factorize()[0]"
   ]
  },
  {
   "cell_type": "code",
   "execution_count": 22,
   "id": "44ae666e",
   "metadata": {},
   "outputs": [
    {
     "data": {
      "text/plain": [
       "0        0\n",
       "1        0\n",
       "2        0\n",
       "3        0\n",
       "4        0\n",
       "        ..\n",
       "22261    2\n",
       "22262    2\n",
       "22263    2\n",
       "22264    2\n",
       "22265    2\n",
       "Name: category_id, Length: 22266, dtype: int64"
      ]
     },
     "execution_count": 22,
     "metadata": {},
     "output_type": "execute_result"
    }
   ],
   "source": [
    "df['category_id']"
   ]
  },
  {
   "cell_type": "code",
   "execution_count": 23,
   "id": "87876628",
   "metadata": {},
   "outputs": [
    {
     "data": {
      "text/html": [
       "<div>\n",
       "<style scoped>\n",
       "    .dataframe tbody tr th:only-of-type {\n",
       "        vertical-align: middle;\n",
       "    }\n",
       "\n",
       "    .dataframe tbody tr th {\n",
       "        vertical-align: top;\n",
       "    }\n",
       "\n",
       "    .dataframe thead th {\n",
       "        text-align: right;\n",
       "    }\n",
       "</style>\n",
       "<table border=\"1\" class=\"dataframe\">\n",
       "  <thead>\n",
       "    <tr style=\"text-align: right;\">\n",
       "      <th></th>\n",
       "      <th>Unnamed: 0</th>\n",
       "      <th>thumbnail</th>\n",
       "      <th>category</th>\n",
       "      <th>category_id</th>\n",
       "    </tr>\n",
       "  </thead>\n",
       "  <tbody>\n",
       "    <tr>\n",
       "      <th>0</th>\n",
       "      <td>0</td>\n",
       "      <td>https://i.ytimg.com/vi/P8sKtG-VLZI/hqdefault.jpg?sqp=-oa...</td>\n",
       "      <td>sport</td>\n",
       "      <td>0</td>\n",
       "    </tr>\n",
       "    <tr>\n",
       "      <th>1</th>\n",
       "      <td>1</td>\n",
       "      <td>https://i.ytimg.com/vi/9asUxE9beJo/hqdefault.jpg?sqp=-oa...</td>\n",
       "      <td>sport</td>\n",
       "      <td>0</td>\n",
       "    </tr>\n",
       "    <tr>\n",
       "      <th>2</th>\n",
       "      <td>2</td>\n",
       "      <td>https://i.ytimg.com/vi/E4N8K6qWEx8/hqdefault.jpg?sqp=-oa...</td>\n",
       "      <td>sport</td>\n",
       "      <td>0</td>\n",
       "    </tr>\n",
       "    <tr>\n",
       "      <th>3</th>\n",
       "      <td>3</td>\n",
       "      <td>https://i.ytimg.com/vi/9fufKujxeM0/hqdefault.jpg?sqp=-oa...</td>\n",
       "      <td>sport</td>\n",
       "      <td>0</td>\n",
       "    </tr>\n",
       "    <tr>\n",
       "      <th>4</th>\n",
       "      <td>4</td>\n",
       "      <td>https://i.ytimg.com/vi/rv2SsK1hies/hqdefault.jpg?sqp=-oa...</td>\n",
       "      <td>sport</td>\n",
       "      <td>0</td>\n",
       "    </tr>\n",
       "  </tbody>\n",
       "</table>\n",
       "</div>"
      ],
      "text/plain": [
       "   Unnamed: 0                                                    thumbnail  \\\n",
       "0           0  https://i.ytimg.com/vi/P8sKtG-VLZI/hqdefault.jpg?sqp=-oa...   \n",
       "1           1  https://i.ytimg.com/vi/9asUxE9beJo/hqdefault.jpg?sqp=-oa...   \n",
       "2           2  https://i.ytimg.com/vi/E4N8K6qWEx8/hqdefault.jpg?sqp=-oa...   \n",
       "3           3  https://i.ytimg.com/vi/9fufKujxeM0/hqdefault.jpg?sqp=-oa...   \n",
       "4           4  https://i.ytimg.com/vi/rv2SsK1hies/hqdefault.jpg?sqp=-oa...   \n",
       "\n",
       "  category  category_id  \n",
       "0    sport            0  \n",
       "1    sport            0  \n",
       "2    sport            0  \n",
       "3    sport            0  \n",
       "4    sport            0  "
      ]
     },
     "execution_count": 23,
     "metadata": {},
     "output_type": "execute_result"
    }
   ],
   "source": [
    "df.head()"
   ]
  },
  {
   "cell_type": "code",
   "execution_count": 24,
   "id": "10d7a79a",
   "metadata": {},
   "outputs": [
    {
     "data": {
      "text/html": [
       "<div>\n",
       "<style scoped>\n",
       "    .dataframe tbody tr th:only-of-type {\n",
       "        vertical-align: middle;\n",
       "    }\n",
       "\n",
       "    .dataframe tbody tr th {\n",
       "        vertical-align: top;\n",
       "    }\n",
       "\n",
       "    .dataframe thead th {\n",
       "        text-align: right;\n",
       "    }\n",
       "</style>\n",
       "<table border=\"1\" class=\"dataframe\">\n",
       "  <thead>\n",
       "    <tr style=\"text-align: right;\">\n",
       "      <th></th>\n",
       "      <th>category_id</th>\n",
       "      <th>thumbnail</th>\n",
       "    </tr>\n",
       "  </thead>\n",
       "  <tbody>\n",
       "    <tr>\n",
       "      <th>0</th>\n",
       "      <td>0</td>\n",
       "      <td>https://i.ytimg.com/vi/P8sKtG-VLZI/hqdefault.jpg?sqp=-oa...</td>\n",
       "    </tr>\n",
       "    <tr>\n",
       "      <th>1</th>\n",
       "      <td>0</td>\n",
       "      <td>https://i.ytimg.com/vi/9asUxE9beJo/hqdefault.jpg?sqp=-oa...</td>\n",
       "    </tr>\n",
       "    <tr>\n",
       "      <th>2</th>\n",
       "      <td>0</td>\n",
       "      <td>https://i.ytimg.com/vi/E4N8K6qWEx8/hqdefault.jpg?sqp=-oa...</td>\n",
       "    </tr>\n",
       "    <tr>\n",
       "      <th>3</th>\n",
       "      <td>0</td>\n",
       "      <td>https://i.ytimg.com/vi/9fufKujxeM0/hqdefault.jpg?sqp=-oa...</td>\n",
       "    </tr>\n",
       "    <tr>\n",
       "      <th>4</th>\n",
       "      <td>0</td>\n",
       "      <td>https://i.ytimg.com/vi/rv2SsK1hies/hqdefault.jpg?sqp=-oa...</td>\n",
       "    </tr>\n",
       "  </tbody>\n",
       "</table>\n",
       "</div>"
      ],
      "text/plain": [
       "   category_id                                                    thumbnail\n",
       "0            0  https://i.ytimg.com/vi/P8sKtG-VLZI/hqdefault.jpg?sqp=-oa...\n",
       "1            0  https://i.ytimg.com/vi/9asUxE9beJo/hqdefault.jpg?sqp=-oa...\n",
       "2            0  https://i.ytimg.com/vi/E4N8K6qWEx8/hqdefault.jpg?sqp=-oa...\n",
       "3            0  https://i.ytimg.com/vi/9fufKujxeM0/hqdefault.jpg?sqp=-oa...\n",
       "4            0  https://i.ytimg.com/vi/rv2SsK1hies/hqdefault.jpg?sqp=-oa..."
      ]
     },
     "execution_count": 24,
     "metadata": {},
     "output_type": "execute_result"
    }
   ],
   "source": [
    "df = df[['category_id', 'thumbnail']]\n",
    "df.head()\n",
    "df.to_csv('/Users/wuyuemeng/Desktop/project/real_dataset2/final_preprocessing_data.csv', encoding='utf-8-sig')"
   ]
  },
  {
   "cell_type": "code",
   "execution_count": 25,
   "id": "5928f9f4",
   "metadata": {},
   "outputs": [
    {
     "data": {
      "text/plain": [
       "(22266, 2)"
      ]
     },
     "execution_count": 25,
     "metadata": {},
     "output_type": "execute_result"
    }
   ],
   "source": [
    "df.shape"
   ]
  },
  {
   "cell_type": "markdown",
   "id": "2f24c077",
   "metadata": {},
   "source": [
    "# Train-Test split"
   ]
  },
  {
   "cell_type": "code",
   "execution_count": 29,
   "id": "616b94e5",
   "metadata": {},
   "outputs": [
    {
     "data": {
      "text/html": [
       "<div>\n",
       "<style scoped>\n",
       "    .dataframe tbody tr th:only-of-type {\n",
       "        vertical-align: middle;\n",
       "    }\n",
       "\n",
       "    .dataframe tbody tr th {\n",
       "        vertical-align: top;\n",
       "    }\n",
       "\n",
       "    .dataframe thead th {\n",
       "        text-align: right;\n",
       "    }\n",
       "</style>\n",
       "<table border=\"1\" class=\"dataframe\">\n",
       "  <thead>\n",
       "    <tr style=\"text-align: right;\">\n",
       "      <th></th>\n",
       "      <th>Unnamed: 0</th>\n",
       "      <th>category_id</th>\n",
       "      <th>thumbnail</th>\n",
       "    </tr>\n",
       "  </thead>\n",
       "  <tbody>\n",
       "    <tr>\n",
       "      <th>0</th>\n",
       "      <td>0</td>\n",
       "      <td>0</td>\n",
       "      <td>https://i.ytimg.com/vi/P8sKtG-VLZI/hqdefault.jpg?sqp=-oa...</td>\n",
       "    </tr>\n",
       "    <tr>\n",
       "      <th>1</th>\n",
       "      <td>1</td>\n",
       "      <td>0</td>\n",
       "      <td>https://i.ytimg.com/vi/9asUxE9beJo/hqdefault.jpg?sqp=-oa...</td>\n",
       "    </tr>\n",
       "    <tr>\n",
       "      <th>2</th>\n",
       "      <td>2</td>\n",
       "      <td>0</td>\n",
       "      <td>https://i.ytimg.com/vi/E4N8K6qWEx8/hqdefault.jpg?sqp=-oa...</td>\n",
       "    </tr>\n",
       "    <tr>\n",
       "      <th>3</th>\n",
       "      <td>3</td>\n",
       "      <td>0</td>\n",
       "      <td>https://i.ytimg.com/vi/9fufKujxeM0/hqdefault.jpg?sqp=-oa...</td>\n",
       "    </tr>\n",
       "    <tr>\n",
       "      <th>4</th>\n",
       "      <td>4</td>\n",
       "      <td>0</td>\n",
       "      <td>https://i.ytimg.com/vi/rv2SsK1hies/hqdefault.jpg?sqp=-oa...</td>\n",
       "    </tr>\n",
       "    <tr>\n",
       "      <th>...</th>\n",
       "      <td>...</td>\n",
       "      <td>...</td>\n",
       "      <td>...</td>\n",
       "    </tr>\n",
       "    <tr>\n",
       "      <th>22261</th>\n",
       "      <td>22261</td>\n",
       "      <td>2</td>\n",
       "      <td>https://i.ytimg.com/vi/eAzlO5akPOk/hqdefault.jpg?sqp=-oa...</td>\n",
       "    </tr>\n",
       "    <tr>\n",
       "      <th>22262</th>\n",
       "      <td>22262</td>\n",
       "      <td>2</td>\n",
       "      <td>https://i.ytimg.com/vi/RYXNx45aMDU/hqdefault.jpg?sqp=-oa...</td>\n",
       "    </tr>\n",
       "    <tr>\n",
       "      <th>22263</th>\n",
       "      <td>22263</td>\n",
       "      <td>2</td>\n",
       "      <td>https://i.ytimg.com/vi/HZEiL4IvHMo/hqdefault.jpg?sqp=-oa...</td>\n",
       "    </tr>\n",
       "    <tr>\n",
       "      <th>22264</th>\n",
       "      <td>22264</td>\n",
       "      <td>2</td>\n",
       "      <td>https://i.ytimg.com/vi/axsY0jeTBNE/hqdefault.jpg?sqp=-oa...</td>\n",
       "    </tr>\n",
       "    <tr>\n",
       "      <th>22265</th>\n",
       "      <td>22265</td>\n",
       "      <td>2</td>\n",
       "      <td>https://i.ytimg.com/vi/yhSsfBBBt-4/hqdefault.jpg?sqp=-oa...</td>\n",
       "    </tr>\n",
       "  </tbody>\n",
       "</table>\n",
       "<p>22266 rows × 3 columns</p>\n",
       "</div>"
      ],
      "text/plain": [
       "       Unnamed: 0  category_id  \\\n",
       "0               0            0   \n",
       "1               1            0   \n",
       "2               2            0   \n",
       "3               3            0   \n",
       "4               4            0   \n",
       "...           ...          ...   \n",
       "22261       22261            2   \n",
       "22262       22262            2   \n",
       "22263       22263            2   \n",
       "22264       22264            2   \n",
       "22265       22265            2   \n",
       "\n",
       "                                                         thumbnail  \n",
       "0      https://i.ytimg.com/vi/P8sKtG-VLZI/hqdefault.jpg?sqp=-oa...  \n",
       "1      https://i.ytimg.com/vi/9asUxE9beJo/hqdefault.jpg?sqp=-oa...  \n",
       "2      https://i.ytimg.com/vi/E4N8K6qWEx8/hqdefault.jpg?sqp=-oa...  \n",
       "3      https://i.ytimg.com/vi/9fufKujxeM0/hqdefault.jpg?sqp=-oa...  \n",
       "4      https://i.ytimg.com/vi/rv2SsK1hies/hqdefault.jpg?sqp=-oa...  \n",
       "...                                                            ...  \n",
       "22261  https://i.ytimg.com/vi/eAzlO5akPOk/hqdefault.jpg?sqp=-oa...  \n",
       "22262  https://i.ytimg.com/vi/RYXNx45aMDU/hqdefault.jpg?sqp=-oa...  \n",
       "22263  https://i.ytimg.com/vi/HZEiL4IvHMo/hqdefault.jpg?sqp=-oa...  \n",
       "22264  https://i.ytimg.com/vi/axsY0jeTBNE/hqdefault.jpg?sqp=-oa...  \n",
       "22265  https://i.ytimg.com/vi/yhSsfBBBt-4/hqdefault.jpg?sqp=-oa...  \n",
       "\n",
       "[22266 rows x 3 columns]"
      ]
     },
     "execution_count": 29,
     "metadata": {},
     "output_type": "execute_result"
    }
   ],
   "source": [
    "df_for_split = pd.read_csv('/Users/wuyuemeng/Desktop/project/real_dataset2/final_preprocessing_data.csv',encoding='utf-8-sig')\n",
    "df_for_split"
   ]
  },
  {
   "cell_type": "code",
   "execution_count": 30,
   "id": "c6306619",
   "metadata": {},
   "outputs": [
    {
     "data": {
      "text/html": [
       "<div>\n",
       "<style scoped>\n",
       "    .dataframe tbody tr th:only-of-type {\n",
       "        vertical-align: middle;\n",
       "    }\n",
       "\n",
       "    .dataframe tbody tr th {\n",
       "        vertical-align: top;\n",
       "    }\n",
       "\n",
       "    .dataframe thead th {\n",
       "        text-align: right;\n",
       "    }\n",
       "</style>\n",
       "<table border=\"1\" class=\"dataframe\">\n",
       "  <thead>\n",
       "    <tr style=\"text-align: right;\">\n",
       "      <th></th>\n",
       "      <th>Unnamed: 0</th>\n",
       "      <th>category_id</th>\n",
       "      <th>thumbnail</th>\n",
       "    </tr>\n",
       "  </thead>\n",
       "  <tbody>\n",
       "    <tr>\n",
       "      <th>0</th>\n",
       "      <td>16576</td>\n",
       "      <td>2</td>\n",
       "      <td>https://i.ytimg.com/vi/l35cs9_Pb-M/hqdefault.jpg?sqp=-oa...</td>\n",
       "    </tr>\n",
       "    <tr>\n",
       "      <th>1</th>\n",
       "      <td>20262</td>\n",
       "      <td>2</td>\n",
       "      <td>https://i.ytimg.com/vi/wmMR4VTpJqE/hqdefault.jpg?sqp=-oa...</td>\n",
       "    </tr>\n",
       "    <tr>\n",
       "      <th>2</th>\n",
       "      <td>21124</td>\n",
       "      <td>2</td>\n",
       "      <td>https://i.ytimg.com/vi/1FaNnJ23PJk/hqdefault.jpg?sqp=-oa...</td>\n",
       "    </tr>\n",
       "    <tr>\n",
       "      <th>3</th>\n",
       "      <td>22224</td>\n",
       "      <td>2</td>\n",
       "      <td>https://i.ytimg.com/vi/P7KD0xDtC5Q/hqdefault.jpg?sqp=-oa...</td>\n",
       "    </tr>\n",
       "    <tr>\n",
       "      <th>4</th>\n",
       "      <td>15932</td>\n",
       "      <td>2</td>\n",
       "      <td>https://i.ytimg.com/vi/rOd4tsN3NmY/hqdefault.jpg?sqp=-oa...</td>\n",
       "    </tr>\n",
       "    <tr>\n",
       "      <th>...</th>\n",
       "      <td>...</td>\n",
       "      <td>...</td>\n",
       "      <td>...</td>\n",
       "    </tr>\n",
       "    <tr>\n",
       "      <th>7776</th>\n",
       "      <td>18490</td>\n",
       "      <td>2</td>\n",
       "      <td>https://i.ytimg.com/vi/nct-U8dW8SI/hqdefault.jpg?sqp=-oa...</td>\n",
       "    </tr>\n",
       "    <tr>\n",
       "      <th>7777</th>\n",
       "      <td>16236</td>\n",
       "      <td>2</td>\n",
       "      <td>https://i.ytimg.com/vi/iIz5NwUFdWQ/hqdefault.jpg?sqp=-oa...</td>\n",
       "    </tr>\n",
       "    <tr>\n",
       "      <th>7778</th>\n",
       "      <td>18294</td>\n",
       "      <td>2</td>\n",
       "      <td>https://i.ytimg.com/vi/doBNthD7W4M/hqdefault.jpg?sqp=-oa...</td>\n",
       "    </tr>\n",
       "    <tr>\n",
       "      <th>7779</th>\n",
       "      <td>16045</td>\n",
       "      <td>2</td>\n",
       "      <td>https://i.ytimg.com/vi/eU_1ZALeN_A/hqdefault.jpg?sqp=-oa...</td>\n",
       "    </tr>\n",
       "    <tr>\n",
       "      <th>7780</th>\n",
       "      <td>19410</td>\n",
       "      <td>2</td>\n",
       "      <td>https://i.ytimg.com/vi/OHP6e1hC6x8/hqdefault.jpg?sqp=-oa...</td>\n",
       "    </tr>\n",
       "  </tbody>\n",
       "</table>\n",
       "<p>7781 rows × 3 columns</p>\n",
       "</div>"
      ],
      "text/plain": [
       "      Unnamed: 0  category_id  \\\n",
       "0          16576            2   \n",
       "1          20262            2   \n",
       "2          21124            2   \n",
       "3          22224            2   \n",
       "4          15932            2   \n",
       "...          ...          ...   \n",
       "7776       18490            2   \n",
       "7777       16236            2   \n",
       "7778       18294            2   \n",
       "7779       16045            2   \n",
       "7780       19410            2   \n",
       "\n",
       "                                                        thumbnail  \n",
       "0     https://i.ytimg.com/vi/l35cs9_Pb-M/hqdefault.jpg?sqp=-oa...  \n",
       "1     https://i.ytimg.com/vi/wmMR4VTpJqE/hqdefault.jpg?sqp=-oa...  \n",
       "2     https://i.ytimg.com/vi/1FaNnJ23PJk/hqdefault.jpg?sqp=-oa...  \n",
       "3     https://i.ytimg.com/vi/P7KD0xDtC5Q/hqdefault.jpg?sqp=-oa...  \n",
       "4     https://i.ytimg.com/vi/rOd4tsN3NmY/hqdefault.jpg?sqp=-oa...  \n",
       "...                                                           ...  \n",
       "7776  https://i.ytimg.com/vi/nct-U8dW8SI/hqdefault.jpg?sqp=-oa...  \n",
       "7777  https://i.ytimg.com/vi/iIz5NwUFdWQ/hqdefault.jpg?sqp=-oa...  \n",
       "7778  https://i.ytimg.com/vi/doBNthD7W4M/hqdefault.jpg?sqp=-oa...  \n",
       "7779  https://i.ytimg.com/vi/eU_1ZALeN_A/hqdefault.jpg?sqp=-oa...  \n",
       "7780  https://i.ytimg.com/vi/OHP6e1hC6x8/hqdefault.jpg?sqp=-oa...  \n",
       "\n",
       "[7781 rows x 3 columns]"
      ]
     },
     "execution_count": 30,
     "metadata": {},
     "output_type": "execute_result"
    }
   ],
   "source": [
    "sport_set = df_for_split.loc[df_for_split['category_id']==0,:].sample(frac=1).reset_index(drop=True)\n",
    "pet_set = df_for_split.loc[df_for_split['category_id']==1,:].sample(frac=1).reset_index(drop=True)\n",
    "food_set = df_for_split.loc[df_for_split['category_id']==2,:].sample(frac=1).reset_index(drop=True)\n",
    "food_set"
   ]
  },
  {
   "cell_type": "code",
   "execution_count": 31,
   "id": "30a6f14e",
   "metadata": {},
   "outputs": [
    {
     "data": {
      "text/html": [
       "<div>\n",
       "<style scoped>\n",
       "    .dataframe tbody tr th:only-of-type {\n",
       "        vertical-align: middle;\n",
       "    }\n",
       "\n",
       "    .dataframe tbody tr th {\n",
       "        vertical-align: top;\n",
       "    }\n",
       "\n",
       "    .dataframe thead th {\n",
       "        text-align: right;\n",
       "    }\n",
       "</style>\n",
       "<table border=\"1\" class=\"dataframe\">\n",
       "  <thead>\n",
       "    <tr style=\"text-align: right;\">\n",
       "      <th></th>\n",
       "      <th>Unnamed: 0</th>\n",
       "      <th>category_id</th>\n",
       "      <th>thumbnail</th>\n",
       "    </tr>\n",
       "  </thead>\n",
       "  <tbody>\n",
       "    <tr>\n",
       "      <th>6225</th>\n",
       "      <td>17024</td>\n",
       "      <td>2</td>\n",
       "      <td>https://i.ytimg.com/vi/w6oisfv2Euc/hqdefault.jpg?sqp=-oa...</td>\n",
       "    </tr>\n",
       "    <tr>\n",
       "      <th>6226</th>\n",
       "      <td>18347</td>\n",
       "      <td>2</td>\n",
       "      <td>https://i.ytimg.com/vi/D9wj8Mpje2c/hqdefault.jpg?sqp=-oa...</td>\n",
       "    </tr>\n",
       "    <tr>\n",
       "      <th>6227</th>\n",
       "      <td>19742</td>\n",
       "      <td>2</td>\n",
       "      <td>https://i.ytimg.com/vi/gGyinlo46Hw/hqdefault.jpg?sqp=-oa...</td>\n",
       "    </tr>\n",
       "    <tr>\n",
       "      <th>6228</th>\n",
       "      <td>18265</td>\n",
       "      <td>2</td>\n",
       "      <td>https://i.ytimg.com/vi/ajI-jU8fOwo/hqdefault.jpg?sqp=-oa...</td>\n",
       "    </tr>\n",
       "    <tr>\n",
       "      <th>6229</th>\n",
       "      <td>14614</td>\n",
       "      <td>2</td>\n",
       "      <td>https://i.ytimg.com/vi/lf59a1yf4Wk/hqdefault.jpg?sqp=-oa...</td>\n",
       "    </tr>\n",
       "    <tr>\n",
       "      <th>...</th>\n",
       "      <td>...</td>\n",
       "      <td>...</td>\n",
       "      <td>...</td>\n",
       "    </tr>\n",
       "    <tr>\n",
       "      <th>7776</th>\n",
       "      <td>18490</td>\n",
       "      <td>2</td>\n",
       "      <td>https://i.ytimg.com/vi/nct-U8dW8SI/hqdefault.jpg?sqp=-oa...</td>\n",
       "    </tr>\n",
       "    <tr>\n",
       "      <th>7777</th>\n",
       "      <td>16236</td>\n",
       "      <td>2</td>\n",
       "      <td>https://i.ytimg.com/vi/iIz5NwUFdWQ/hqdefault.jpg?sqp=-oa...</td>\n",
       "    </tr>\n",
       "    <tr>\n",
       "      <th>7778</th>\n",
       "      <td>18294</td>\n",
       "      <td>2</td>\n",
       "      <td>https://i.ytimg.com/vi/doBNthD7W4M/hqdefault.jpg?sqp=-oa...</td>\n",
       "    </tr>\n",
       "    <tr>\n",
       "      <th>7779</th>\n",
       "      <td>16045</td>\n",
       "      <td>2</td>\n",
       "      <td>https://i.ytimg.com/vi/eU_1ZALeN_A/hqdefault.jpg?sqp=-oa...</td>\n",
       "    </tr>\n",
       "    <tr>\n",
       "      <th>7780</th>\n",
       "      <td>19410</td>\n",
       "      <td>2</td>\n",
       "      <td>https://i.ytimg.com/vi/OHP6e1hC6x8/hqdefault.jpg?sqp=-oa...</td>\n",
       "    </tr>\n",
       "  </tbody>\n",
       "</table>\n",
       "<p>1556 rows × 3 columns</p>\n",
       "</div>"
      ],
      "text/plain": [
       "      Unnamed: 0  category_id  \\\n",
       "6225       17024            2   \n",
       "6226       18347            2   \n",
       "6227       19742            2   \n",
       "6228       18265            2   \n",
       "6229       14614            2   \n",
       "...          ...          ...   \n",
       "7776       18490            2   \n",
       "7777       16236            2   \n",
       "7778       18294            2   \n",
       "7779       16045            2   \n",
       "7780       19410            2   \n",
       "\n",
       "                                                        thumbnail  \n",
       "6225  https://i.ytimg.com/vi/w6oisfv2Euc/hqdefault.jpg?sqp=-oa...  \n",
       "6226  https://i.ytimg.com/vi/D9wj8Mpje2c/hqdefault.jpg?sqp=-oa...  \n",
       "6227  https://i.ytimg.com/vi/gGyinlo46Hw/hqdefault.jpg?sqp=-oa...  \n",
       "6228  https://i.ytimg.com/vi/ajI-jU8fOwo/hqdefault.jpg?sqp=-oa...  \n",
       "6229  https://i.ytimg.com/vi/lf59a1yf4Wk/hqdefault.jpg?sqp=-oa...  \n",
       "...                                                           ...  \n",
       "7776  https://i.ytimg.com/vi/nct-U8dW8SI/hqdefault.jpg?sqp=-oa...  \n",
       "7777  https://i.ytimg.com/vi/iIz5NwUFdWQ/hqdefault.jpg?sqp=-oa...  \n",
       "7778  https://i.ytimg.com/vi/doBNthD7W4M/hqdefault.jpg?sqp=-oa...  \n",
       "7779  https://i.ytimg.com/vi/eU_1ZALeN_A/hqdefault.jpg?sqp=-oa...  \n",
       "7780  https://i.ytimg.com/vi/OHP6e1hC6x8/hqdefault.jpg?sqp=-oa...  \n",
       "\n",
       "[1556 rows x 3 columns]"
      ]
     },
     "execution_count": 31,
     "metadata": {},
     "output_type": "execute_result"
    }
   ],
   "source": [
    "sport_test = sport_set.loc[sport_set['category_id']==0,:][-1459:]\n",
    "pet_test = pet_set.loc[pet_set['category_id']==1,:][-1437:]\n",
    "food_test = food_set.loc[food_set['category_id']==2,:][-1556:]\n",
    "food_test"
   ]
  },
  {
   "cell_type": "code",
   "execution_count": 34,
   "id": "2647a35a",
   "metadata": {},
   "outputs": [],
   "source": [
    "total_test_set = pd.concat([sport_test, pet_test, food_test])\n",
    "total_test_set.to_csv('/Users/wuyuemeng/Desktop/project/real_dataset2/test_set.csv', encoding='utf-8-sig')"
   ]
  },
  {
   "cell_type": "code",
   "execution_count": 35,
   "id": "c361e3a1",
   "metadata": {},
   "outputs": [
    {
     "data": {
      "text/plain": [
       "(4452, 3)"
      ]
     },
     "execution_count": 35,
     "metadata": {},
     "output_type": "execute_result"
    }
   ],
   "source": [
    "total_test_set.shape"
   ]
  },
  {
   "cell_type": "code",
   "execution_count": 37,
   "id": "cb0dab38",
   "metadata": {},
   "outputs": [],
   "source": [
    "sport_train = sport_set.loc[sport_set['category_id']==0,:][:5838]\n",
    "pet_train = pet_set.loc[pet_set['category_id']==1,:][:5751]\n",
    "food_train = food_set.loc[food_set['category_id']==2,:][:6226]"
   ]
  },
  {
   "cell_type": "code",
   "execution_count": 38,
   "id": "de799f8d",
   "metadata": {},
   "outputs": [],
   "source": [
    "total_train_set = pd.concat([sport_train, pet_train, food_train])\n",
    "total_train_set.to_csv('/Users/wuyuemeng/Desktop/project/real_dataset2/train_set.csv', encoding='utf-8-sig')"
   ]
  },
  {
   "cell_type": "code",
   "execution_count": 39,
   "id": "38b470d1",
   "metadata": {},
   "outputs": [
    {
     "data": {
      "text/plain": [
       "(4452, 3)"
      ]
     },
     "execution_count": 39,
     "metadata": {},
     "output_type": "execute_result"
    },
    {
     "data": {
      "text/plain": [
       "(17815, 3)"
      ]
     },
     "execution_count": 39,
     "metadata": {},
     "output_type": "execute_result"
    }
   ],
   "source": [
    "total_test_set.shape\n",
    "total_train_set.shape"
   ]
  },
  {
   "cell_type": "code",
   "execution_count": null,
   "id": "54bc0bad",
   "metadata": {},
   "outputs": [],
   "source": []
  }
 ],
 "metadata": {
  "kernelspec": {
   "display_name": "Python 3 (ipykernel)",
   "language": "python",
   "name": "python3"
  },
  "language_info": {
   "codemirror_mode": {
    "name": "ipython",
    "version": 3
   },
   "file_extension": ".py",
   "mimetype": "text/x-python",
   "name": "python",
   "nbconvert_exporter": "python",
   "pygments_lexer": "ipython3",
   "version": "3.9.12"
  }
 },
 "nbformat": 4,
 "nbformat_minor": 5
}
