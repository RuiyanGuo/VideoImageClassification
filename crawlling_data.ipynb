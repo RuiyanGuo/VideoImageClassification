{
 "cells": [
  {
   "cell_type": "code",
   "execution_count": 2,
   "id": "9ac5b1dd",
   "metadata": {},
   "outputs": [
    {
     "name": "stderr",
     "output_type": "stream",
     "text": [
      "/var/folders/yv/8sn4_mf155d8ltwrkhtfcqm00000gn/T/ipykernel_17892/3577045251.py:2: DeprecationWarning: Importing display from IPython.core.display is deprecated since IPython 7.14, please import from IPython display\n",
      "  from IPython.core.display import display, HTML\n"
     ]
    },
    {
     "data": {
      "text/html": [
       "<style>.container { width:100% !important; }</style>"
      ],
      "text/plain": [
       "<IPython.core.display.HTML object>"
      ]
     },
     "metadata": {},
     "output_type": "display_data"
    }
   ],
   "source": [
    "import pandas as pd\n",
    "from IPython.core.display import display, HTML\n",
    "display(HTML(\"<style>.container { width:100% !important; }</style>\"))\n",
    "\n",
    "pd.set_option('display.max.colwidth',60)\n",
    "pd.options.display.max_columns = 100\n",
    "\n",
    "from IPython.core.interactiveshell import InteractiveShell\n",
    "InteractiveShell.ast_node_interactivity = \"all\""
   ]
  },
  {
   "cell_type": "code",
   "execution_count": 3,
   "id": "445a37fc",
   "metadata": {},
   "outputs": [],
   "source": [
    "from selenium import webdriver\n",
    "from selenium.webdriver.common.keys import Keys\n",
    "from selenium.webdriver.common.by import By\n",
    "from selenium.webdriver.firefox.service import Service\n",
    "from webdriver_manager.firefox import GeckoDriverManager\n",
    "from selenium.webdriver.support.ui import WebDriverWait\n",
    "from selenium.webdriver.support import expected_conditions as EC\n",
    "\n",
    "import pandas as pd\n",
    "import time\n",
    "from bs4 import BeautifulSoup\n",
    "import re"
   ]
  },
  {
   "cell_type": "code",
   "execution_count": 18,
   "id": "b9f1ffab",
   "metadata": {},
   "outputs": [],
   "source": [
    "# URL list of all youtuber video pages\n",
    "channel_urls = {\n",
    "    'https://www.youtube.com/@SeanKitchen/videos' : 'food',\n",
    "    'https://www.youtube.com/@JoshuaWeissman/videos' : 'food',\n",
    "    'https://www.youtube.com/@yummy_yammy/videos' : 'food',\n",
    "    'https://www.youtube.com/@TastyTravel/videos' : 'food',\n",
    "    'https://www.youtube.com/@MoreBestEverFoodReviewShow/videos' : 'food',\n",
    "    'https://www.youtube.com/@MarkWiens/videos' : 'food',\n",
    "    'https://www.youtube.com/@yummyboys/videos' : 'food',\n",
    "    'https://www.youtube.com/@Udonsobaosakanara/videos' : 'food',\n",
    "    'https://www.youtube.com/@hamzymukbang/videos' : 'food',\n",
    "    'https://www.youtube.com/@seagullfood/videos' : 'food',\n",
    "    'https://www.youtube.com/@Delight_Studio/videos' : 'food',\n",
    "    'https://www.youtube.com/@EatwithBoki/videos' : 'food',\n",
    "    'https://www.youtube.com/@KingFood/videos' : 'food',\n",
    "    'https://www.youtube.com/@gongsam_table203/videos' : 'food',\n",
    "    'https://www.youtube.com/@TasteShow/videos' : 'food',\n",
    "    'https://www.youtube.com/@beamingmango3416/videos' : 'food',\n",
    "    'https://www.youtube.com/@Chaofoodie/videos' : 'food',\n",
    "    'https://www.youtube.com/@recipe30/videos' : 'food',\n",
    "    'https://www.youtube.com/@ChusVegan/videos' : 'food',\n",
    "    'https://www.youtube.com/@herzhaftundlecker/videos' : 'food'\n",
    "}"
   ]
  },
  {
   "cell_type": "code",
   "execution_count": 19,
   "id": "9136a6d9",
   "metadata": {
    "scrolled": true
   },
   "outputs": [],
   "source": [
    "# Initialize array storing video links and categories\n",
    "video_url_list = []\n",
    "category_list = []\n",
    "video_js_list = []\n",
    "# Loop through channel url list\n",
    "for url, category in channel_urls.items(): \n",
    "    # Set up the GeckoDriver Service\n",
    "    service = Service(executable_path=GeckoDriverManager().install())\n",
    "    # Set up the WebDriver for Firefox\n",
    "    driver = webdriver.Firefox(service=service)\n",
    "    driver.maximize_window()\n",
    "\n",
    "    # URL of page where the full video appears url\n",
    "    driver.get(url)\n",
    "    body = driver.find_element(By.TAG_NAME, 'body')\n",
    "    time.sleep(1.5)  # Wait for the browser loading time.\n",
    "\n",
    "    # Keep track of the last and new scroll heights\n",
    "    last_height = driver.execute_script(\"return document.documentElement.scrollHeight\")\n",
    "\n",
    "    while True:\n",
    "        # Scroll down to the bottom of the page\n",
    "        driver.execute_script(\"window.scrollTo(0, document.documentElement.scrollHeight);\")\n",
    "        # Wait to load page\n",
    "        time.sleep(5)\n",
    "\n",
    "        # Calculate new scroll height and compare with last scroll height\n",
    "        new_height = driver.execute_script(\"return document.documentElement.scrollHeight\")\n",
    "        if new_height == last_height:\n",
    "            # If heights are the same, it's the end of the page\n",
    "            break\n",
    "        last_height = new_height\n",
    "\n",
    "    # Now that we've scrolled to the bottom, we proceed with the rest of the script\n",
    "    start_page = driver.page_source\n",
    "    soup = BeautifulSoup(start_page, 'lxml')\n",
    "\n",
    "    video_list = soup.find_all('ytd-rich-item-renderer', class_='style-scope ytd-rich-grid-row')\n",
    "    video_js_list.extend(video_list)\n",
    "\n",
    "    base_url = 'http://www.youtube.com'\n",
    "    for i in range(len(video_list)):\n",
    "        item = video_list[i].find('a', {'id': 'thumbnail'})\n",
    "        url = base_url + item['href']\n",
    "        video_url_list.append(url)\n",
    "        category_list.append(category)\n",
    "\n",
    "    # Quit the driver, when finish\n",
    "    driver.quit()"
   ]
  },
  {
   "cell_type": "code",
   "execution_count": 20,
   "id": "b53fd66a",
   "metadata": {},
   "outputs": [
    {
     "data": {
      "text/plain": [
       "14294"
      ]
     },
     "execution_count": 20,
     "metadata": {},
     "output_type": "execute_result"
    },
    {
     "data": {
      "text/plain": [
       "14294"
      ]
     },
     "execution_count": 20,
     "metadata": {},
     "output_type": "execute_result"
    },
    {
     "data": {
      "text/plain": [
       "14294"
      ]
     },
     "execution_count": 20,
     "metadata": {},
     "output_type": "execute_result"
    }
   ],
   "source": [
    "len(video_url_list)\n",
    "len(category_list)\n",
    "len(video_js_list)"
   ]
  },
  {
   "cell_type": "code",
   "execution_count": 21,
   "id": "51a62b21",
   "metadata": {
    "scrolled": true
   },
   "outputs": [
    {
     "data": {
      "text/plain": [
       "7782"
      ]
     },
     "execution_count": 21,
     "metadata": {},
     "output_type": "execute_result"
    },
    {
     "data": {
      "text/html": [
       "<div>\n",
       "<style scoped>\n",
       "    .dataframe tbody tr th:only-of-type {\n",
       "        vertical-align: middle;\n",
       "    }\n",
       "\n",
       "    .dataframe tbody tr th {\n",
       "        vertical-align: top;\n",
       "    }\n",
       "\n",
       "    .dataframe thead th {\n",
       "        text-align: right;\n",
       "    }\n",
       "</style>\n",
       "<table border=\"1\" class=\"dataframe\">\n",
       "  <thead>\n",
       "    <tr style=\"text-align: right;\">\n",
       "      <th></th>\n",
       "      <th>thumbnail</th>\n",
       "      <th>category</th>\n",
       "    </tr>\n",
       "  </thead>\n",
       "  <tbody>\n",
       "    <tr>\n",
       "      <th>0</th>\n",
       "      <td>https://i.ytimg.com/vi/mDS7ndhhnd8/hqdefault.jpg?sqp=-oa...</td>\n",
       "      <td>food</td>\n",
       "    </tr>\n",
       "    <tr>\n",
       "      <th>1</th>\n",
       "      <td>https://i.ytimg.com/vi/vhWkiFaIYHo/hqdefault.jpg?sqp=-oa...</td>\n",
       "      <td>food</td>\n",
       "    </tr>\n",
       "    <tr>\n",
       "      <th>2</th>\n",
       "      <td>https://i.ytimg.com/vi/Afs3k1r9R0I/hqdefault.jpg?sqp=-oa...</td>\n",
       "      <td>food</td>\n",
       "    </tr>\n",
       "    <tr>\n",
       "      <th>3</th>\n",
       "      <td>https://i.ytimg.com/vi/3CDpcaTdMso/hqdefault.jpg?sqp=-oa...</td>\n",
       "      <td>food</td>\n",
       "    </tr>\n",
       "    <tr>\n",
       "      <th>4</th>\n",
       "      <td>https://i.ytimg.com/vi/hWbmujo9yXs/hqdefault.jpg?sqp=-oa...</td>\n",
       "      <td>food</td>\n",
       "    </tr>\n",
       "  </tbody>\n",
       "</table>\n",
       "</div>"
      ],
      "text/plain": [
       "                                                     thumbnail category\n",
       "0  https://i.ytimg.com/vi/mDS7ndhhnd8/hqdefault.jpg?sqp=-oa...     food\n",
       "1  https://i.ytimg.com/vi/vhWkiFaIYHo/hqdefault.jpg?sqp=-oa...     food\n",
       "2  https://i.ytimg.com/vi/Afs3k1r9R0I/hqdefault.jpg?sqp=-oa...     food\n",
       "3  https://i.ytimg.com/vi/3CDpcaTdMso/hqdefault.jpg?sqp=-oa...     food\n",
       "4  https://i.ytimg.com/vi/hWbmujo9yXs/hqdefault.jpg?sqp=-oa...     food"
      ]
     },
     "execution_count": 21,
     "metadata": {},
     "output_type": "execute_result"
    }
   ],
   "source": [
    "thumbnail_list = pd.DataFrame({'thumbnail' :[],'category':[] })\n",
    "\n",
    "for i in range(0,len(video_url_list)):\n",
    "    \n",
    "    try :\n",
    "\n",
    "        thumbnail = video_js_list[i].find('img', {'src' : True})['src']\n",
    "        category = category_list[i] \n",
    "        insert_data = pd.DataFrame({'thumbnail' :[thumbnail],'category':[category]})\n",
    "    \n",
    "        #thumbnail_list = sukaworld.append(insert_data)\n",
    "        thumbnail_list = pd.concat([thumbnail_list, insert_data], ignore_index=True)\n",
    "    \n",
    "    except KeyError as k: # error It's saved without including floating. (error Whenever you find something that pops up, just put it in.)\n",
    "        pass\n",
    "    except AttributeError as a: \n",
    "        pass\n",
    "    except IndexError as e:\n",
    "        pass\n",
    "    except TypeError as t:\n",
    "        pass\n",
    "\n",
    "len(thumbnail_list)\n",
    "thumbnail_list.head()"
   ]
  },
  {
   "cell_type": "code",
   "execution_count": 22,
   "id": "b20e6fab",
   "metadata": {},
   "outputs": [],
   "source": [
    "thumbnail_list.to_csv('/Users/ry/Untitled Folder/wym1508project/food_complete.csv',encoding='utf-8-sig') # all_in_one.csv"
   ]
  },
  {
   "cell_type": "code",
   "execution_count": 23,
   "id": "b7005c3b",
   "metadata": {},
   "outputs": [],
   "source": [
    "# URL list of all youtuber video pages\n",
    "channel_urls2 = {\n",
    "    'https://www.youtube.com/@koenFunniestplanet/videos' : 'pet',\n",
    "    'https://www.youtube.com/@petcollective/videos' : 'pet',\n",
    "    'https://www.youtube.com/@funnypetslife67911/videos' : 'pet',\n",
    "    'https://www.youtube.com/@FunnyandcuteCatLife/videos' : 'pet',\n",
    "    'https://www.youtube.com/@cutepetstv11/videos' : 'pet',\n",
    "    'https://www.youtube.com/@byyourside4674/videos' : 'pet',\n",
    "    'https://www.youtube.com/@meow_dad/videos' : 'pet',\n",
    "    'https://www.youtube.com/@22cats/videos' : 'pet',\n",
    "    'https://www.youtube.com/@JawDroppingFacts/videos' : 'pet',\n",
    "    'https://www.youtube.com/@funniestanimalsever7995/videos' : 'pet',\n",
    "    'https://www.youtube.com/@PaulDinningVideosforCats/videos' : 'pet',\n",
    "    'https://www.youtube.com/@TheDodoKids/videos' : 'pet',\n",
    "    'https://www.youtube.com/@naughtyanimalstv/videos' : 'pet',\n",
    "    'https://www.youtube.com/@ForYourPets/videos' : 'pet',\n",
    "    'https://www.youtube.com/@hahahaYouTube/videos' : 'pet',\n",
    "    'https://www.youtube.com/@MejooandCats/videos' : 'pet',\n",
    "    'https://www.youtube.com/@mochamilk/videos' : 'pet',\n",
    "    'https://www.youtube.com/@petsstarstube/videos' : 'pet',\n",
    "    'https://www.youtube.com/@thefluffiest/videos' : 'pet',\n",
    "    'https://www.youtube.com/@user-kn9hd7nk4b/videos' : 'pet'\n",
    "}"
   ]
  },
  {
   "cell_type": "code",
   "execution_count": 24,
   "id": "4adc5370",
   "metadata": {},
   "outputs": [],
   "source": [
    "# Initialize array storing video links and categories\n",
    "video_url_list2 = []\n",
    "category_list2 = []\n",
    "video_js_list2 = []\n",
    "# Loop through channel url list\n",
    "for url, category in channel_urls2.items(): \n",
    "    # Set up the GeckoDriver Service\n",
    "    service = Service(executable_path=GeckoDriverManager().install())\n",
    "    # Set up the WebDriver for Firefox\n",
    "    driver = webdriver.Firefox(service=service)\n",
    "    driver.maximize_window()\n",
    "\n",
    "    # URL of page where the full video appears url\n",
    "    driver.get(url)\n",
    "    body = driver.find_element(By.TAG_NAME, 'body')\n",
    "    time.sleep(1.5)  # Wait for the browser loading time.\n",
    "\n",
    "    # Keep track of the last and new scroll heights\n",
    "    last_height = driver.execute_script(\"return document.documentElement.scrollHeight\")\n",
    "\n",
    "    while True:\n",
    "        # Scroll down to the bottom of the page\n",
    "        driver.execute_script(\"window.scrollTo(0, document.documentElement.scrollHeight);\")\n",
    "        # Wait to load page\n",
    "        time.sleep(5)\n",
    "\n",
    "        # Calculate new scroll height and compare with last scroll height\n",
    "        new_height = driver.execute_script(\"return document.documentElement.scrollHeight\")\n",
    "        if new_height == last_height:\n",
    "            # If heights are the same, it's the end of the page\n",
    "            break\n",
    "        last_height = new_height\n",
    "\n",
    "    # Now that we've scrolled to the bottom, we proceed with the rest of the script\n",
    "    start_page = driver.page_source\n",
    "    soup = BeautifulSoup(start_page, 'lxml')\n",
    "\n",
    "    video_list = soup.find_all('ytd-rich-item-renderer', class_='style-scope ytd-rich-grid-row')\n",
    "    video_js_list2.extend(video_list)\n",
    "\n",
    "    base_url = 'http://www.youtube.com'\n",
    "    for i in range(len(video_list)):\n",
    "        item = video_list[i].find('a', {'id': 'thumbnail'})\n",
    "        url = base_url + item['href']\n",
    "        video_url_list2.append(url)\n",
    "        category_list2.append(category)\n",
    "\n",
    "    # Quit the driver, when finish\n",
    "    driver.quit()"
   ]
  },
  {
   "cell_type": "code",
   "execution_count": 25,
   "id": "0f168af5",
   "metadata": {},
   "outputs": [
    {
     "data": {
      "text/plain": [
       "13096"
      ]
     },
     "execution_count": 25,
     "metadata": {},
     "output_type": "execute_result"
    },
    {
     "data": {
      "text/plain": [
       "13096"
      ]
     },
     "execution_count": 25,
     "metadata": {},
     "output_type": "execute_result"
    },
    {
     "data": {
      "text/plain": [
       "13096"
      ]
     },
     "execution_count": 25,
     "metadata": {},
     "output_type": "execute_result"
    }
   ],
   "source": [
    "len(video_url_list2)\n",
    "len(category_list2)\n",
    "len(video_js_list2)"
   ]
  },
  {
   "cell_type": "code",
   "execution_count": 26,
   "id": "aac0de91",
   "metadata": {},
   "outputs": [
    {
     "data": {
      "text/plain": [
       "7188"
      ]
     },
     "execution_count": 26,
     "metadata": {},
     "output_type": "execute_result"
    },
    {
     "data": {
      "text/html": [
       "<div>\n",
       "<style scoped>\n",
       "    .dataframe tbody tr th:only-of-type {\n",
       "        vertical-align: middle;\n",
       "    }\n",
       "\n",
       "    .dataframe tbody tr th {\n",
       "        vertical-align: top;\n",
       "    }\n",
       "\n",
       "    .dataframe thead th {\n",
       "        text-align: right;\n",
       "    }\n",
       "</style>\n",
       "<table border=\"1\" class=\"dataframe\">\n",
       "  <thead>\n",
       "    <tr style=\"text-align: right;\">\n",
       "      <th></th>\n",
       "      <th>thumbnail</th>\n",
       "      <th>category</th>\n",
       "    </tr>\n",
       "  </thead>\n",
       "  <tbody>\n",
       "    <tr>\n",
       "      <th>0</th>\n",
       "      <td>https://i.ytimg.com/vi/PZnPjTLmIik/hqdefault.jpg?sqp=-oa...</td>\n",
       "      <td>pet</td>\n",
       "    </tr>\n",
       "    <tr>\n",
       "      <th>1</th>\n",
       "      <td>https://i.ytimg.com/vi/t99MQo9voVk/hqdefault.jpg?sqp=-oa...</td>\n",
       "      <td>pet</td>\n",
       "    </tr>\n",
       "    <tr>\n",
       "      <th>2</th>\n",
       "      <td>https://i.ytimg.com/vi/tcmFf15mJXQ/hqdefault.jpg?sqp=-oa...</td>\n",
       "      <td>pet</td>\n",
       "    </tr>\n",
       "    <tr>\n",
       "      <th>3</th>\n",
       "      <td>https://i.ytimg.com/vi/fF78wmODeIg/hqdefault.jpg?sqp=-oa...</td>\n",
       "      <td>pet</td>\n",
       "    </tr>\n",
       "    <tr>\n",
       "      <th>4</th>\n",
       "      <td>https://i.ytimg.com/vi/AWCiPV2DZcs/hqdefault.jpg?sqp=-oa...</td>\n",
       "      <td>pet</td>\n",
       "    </tr>\n",
       "  </tbody>\n",
       "</table>\n",
       "</div>"
      ],
      "text/plain": [
       "                                                     thumbnail category\n",
       "0  https://i.ytimg.com/vi/PZnPjTLmIik/hqdefault.jpg?sqp=-oa...      pet\n",
       "1  https://i.ytimg.com/vi/t99MQo9voVk/hqdefault.jpg?sqp=-oa...      pet\n",
       "2  https://i.ytimg.com/vi/tcmFf15mJXQ/hqdefault.jpg?sqp=-oa...      pet\n",
       "3  https://i.ytimg.com/vi/fF78wmODeIg/hqdefault.jpg?sqp=-oa...      pet\n",
       "4  https://i.ytimg.com/vi/AWCiPV2DZcs/hqdefault.jpg?sqp=-oa...      pet"
      ]
     },
     "execution_count": 26,
     "metadata": {},
     "output_type": "execute_result"
    }
   ],
   "source": [
    "thumbnail_list2 = pd.DataFrame({'thumbnail' :[],'category':[] })\n",
    "\n",
    "for i in range(0,len(video_url_list2)):\n",
    "    \n",
    "    try :\n",
    "\n",
    "        thumbnail = video_js_list2[i].find('img', {'src' : True})['src']\n",
    "        category = category_list2[i] \n",
    "        insert_data = pd.DataFrame({'thumbnail' :[thumbnail],'category':[category]})\n",
    "    \n",
    "        #thumbnail_list = sukaworld.append(insert_data)\n",
    "        thumbnail_list2 = pd.concat([thumbnail_list2, insert_data], ignore_index=True)\n",
    "    \n",
    "    except KeyError as k: # error It's saved without including floating. (error Whenever you find something that pops up, just put it in.)\n",
    "        pass\n",
    "    except AttributeError as a: \n",
    "        pass\n",
    "    except IndexError as e:\n",
    "        pass\n",
    "    except TypeError as t:\n",
    "        pass\n",
    "\n",
    "len(thumbnail_list2)\n",
    "thumbnail_list2.head()"
   ]
  },
  {
   "cell_type": "code",
   "execution_count": 27,
   "id": "a06c943c",
   "metadata": {},
   "outputs": [],
   "source": [
    "thumbnail_list2.to_csv('/Users/ry/Untitled Folder/wym1508project/pet_complete.csv',encoding='utf-8-sig') # all_in_one.csv"
   ]
  },
  {
   "cell_type": "code",
   "execution_count": 9,
   "id": "c1cff3b0",
   "metadata": {},
   "outputs": [],
   "source": [
    "# URL list of all youtuber video pages\n",
    "channel_urls3 = {\n",
    "    'https://www.youtube.com/@FreeDawkins/videos' : 'sport',\n",
    "    'https://www.youtube.com/@bball_in_love/videos' : 'sport',\n",
    "    'https://www.youtube.com/@thef2/videos' : 'sport',\n",
    "    'https://www.youtube.com/@Tallguy189/videos' : 'sport',\n",
    "    'https://www.youtube.com/@Jesser/videos' : 'sport',\n",
    "    'https://www.youtube.com/@Amazing_MMA/videos' : 'sport',\n",
    "    'https://www.youtube.com/@roadfc/videos' : 'sport',\n",
    "    'https://www.youtube.com/@shootforlovekorea/videos' : 'sport',\n",
    "    'https://www.youtube.com/@copa90stories/videos' : 'sport',\n",
    "    'https://www.youtube.com/@ChazNBA/videos' : 'sport',\n",
    "    'https://www.youtube.com/@BadmintonFamly/videos' : 'sport',\n",
    "    'https://www.youtube.com/@TriggerGym/videos' : 'sport',\n",
    "    'https://www.youtube.com/@TheNasher61/videos' : 'sport',\n",
    "    'https://www.youtube.com/@STRENGTHWARS/videos' : 'sport',\n",
    "    'https://www.youtube.com/@DanielCutting/videos' : 'sport',\n",
    "    'https://www.youtube.com/@eddiehallwsm/videos' : 'sport'\n",
    "}"
   ]
  },
  {
   "cell_type": "code",
   "execution_count": 10,
   "id": "7eaec2f1",
   "metadata": {},
   "outputs": [],
   "source": [
    "# Initialize array storing video links and categories\n",
    "video_url_list3 = []\n",
    "category_list3 = []\n",
    "video_js_list3 = []\n",
    "# Loop through channel url list\n",
    "for url, category in channel_urls3.items(): \n",
    "    # Set up the GeckoDriver Service\n",
    "    service = Service(executable_path=GeckoDriverManager().install())\n",
    "    # Set up the WebDriver for Firefox\n",
    "    driver = webdriver.Firefox(service=service)\n",
    "    driver.maximize_window()\n",
    "\n",
    "    # URL of page where the full video appears url\n",
    "    driver.get(url)\n",
    "    body = driver.find_element(By.TAG_NAME, 'body')\n",
    "    time.sleep(1.5)  # Wait for the browser loading time.\n",
    "\n",
    "    # Keep track of the last and new scroll heights\n",
    "    last_height = driver.execute_script(\"return document.documentElement.scrollHeight\")\n",
    "\n",
    "    while True:\n",
    "        # Scroll down to the bottom of the page\n",
    "        driver.execute_script(\"window.scrollTo(0, document.documentElement.scrollHeight);\")\n",
    "        # Wait to load page\n",
    "        time.sleep(5)\n",
    "\n",
    "        # Calculate new scroll height and compare with last scroll height\n",
    "        new_height = driver.execute_script(\"return document.documentElement.scrollHeight\")\n",
    "        if new_height == last_height:\n",
    "            # If heights are the same, it's the end of the page\n",
    "            break\n",
    "        last_height = new_height\n",
    "\n",
    "    # Now that we've scrolled to the bottom, we proceed with the rest of the script\n",
    "    start_page = driver.page_source\n",
    "    soup = BeautifulSoup(start_page, 'lxml')\n",
    "\n",
    "    video_list = soup.find_all('ytd-rich-item-renderer', class_='style-scope ytd-rich-grid-row')\n",
    "    video_js_list3.extend(video_list)\n",
    "\n",
    "    base_url = 'http://www.youtube.com'\n",
    "    for i in range(len(video_list)):\n",
    "        item = video_list[i].find('a', {'id': 'thumbnail'})\n",
    "        url = base_url + item['href']\n",
    "        video_url_list3.append(url)\n",
    "        category_list3.append(category)\n",
    "\n",
    "    # Quit the driver, when finish\n",
    "    driver.quit()"
   ]
  },
  {
   "cell_type": "code",
   "execution_count": 11,
   "id": "2bc9629f",
   "metadata": {},
   "outputs": [
    {
     "data": {
      "text/plain": [
       "13637"
      ]
     },
     "execution_count": 11,
     "metadata": {},
     "output_type": "execute_result"
    },
    {
     "data": {
      "text/plain": [
       "13637"
      ]
     },
     "execution_count": 11,
     "metadata": {},
     "output_type": "execute_result"
    },
    {
     "data": {
      "text/plain": [
       "13637"
      ]
     },
     "execution_count": 11,
     "metadata": {},
     "output_type": "execute_result"
    }
   ],
   "source": [
    "len(video_url_list3)\n",
    "len(category_list3)\n",
    "len(video_js_list3)"
   ]
  },
  {
   "cell_type": "code",
   "execution_count": 12,
   "id": "d42cdd95",
   "metadata": {},
   "outputs": [
    {
     "data": {
      "text/plain": [
       "7297"
      ]
     },
     "execution_count": 12,
     "metadata": {},
     "output_type": "execute_result"
    },
    {
     "data": {
      "text/html": [
       "<div>\n",
       "<style scoped>\n",
       "    .dataframe tbody tr th:only-of-type {\n",
       "        vertical-align: middle;\n",
       "    }\n",
       "\n",
       "    .dataframe tbody tr th {\n",
       "        vertical-align: top;\n",
       "    }\n",
       "\n",
       "    .dataframe thead th {\n",
       "        text-align: right;\n",
       "    }\n",
       "</style>\n",
       "<table border=\"1\" class=\"dataframe\">\n",
       "  <thead>\n",
       "    <tr style=\"text-align: right;\">\n",
       "      <th></th>\n",
       "      <th>thumbnail</th>\n",
       "      <th>category</th>\n",
       "    </tr>\n",
       "  </thead>\n",
       "  <tbody>\n",
       "    <tr>\n",
       "      <th>0</th>\n",
       "      <td>https://i.ytimg.com/vi/P8sKtG-VLZI/hqdefault.jpg?sqp=-oa...</td>\n",
       "      <td>sport</td>\n",
       "    </tr>\n",
       "    <tr>\n",
       "      <th>1</th>\n",
       "      <td>https://i.ytimg.com/vi/9asUxE9beJo/hqdefault.jpg?sqp=-oa...</td>\n",
       "      <td>sport</td>\n",
       "    </tr>\n",
       "    <tr>\n",
       "      <th>2</th>\n",
       "      <td>https://i.ytimg.com/vi/E4N8K6qWEx8/hqdefault.jpg?sqp=-oa...</td>\n",
       "      <td>sport</td>\n",
       "    </tr>\n",
       "    <tr>\n",
       "      <th>3</th>\n",
       "      <td>https://i.ytimg.com/vi/9fufKujxeM0/hqdefault.jpg?sqp=-oa...</td>\n",
       "      <td>sport</td>\n",
       "    </tr>\n",
       "    <tr>\n",
       "      <th>4</th>\n",
       "      <td>https://i.ytimg.com/vi/rv2SsK1hies/hqdefault.jpg?sqp=-oa...</td>\n",
       "      <td>sport</td>\n",
       "    </tr>\n",
       "  </tbody>\n",
       "</table>\n",
       "</div>"
      ],
      "text/plain": [
       "                                                     thumbnail category\n",
       "0  https://i.ytimg.com/vi/P8sKtG-VLZI/hqdefault.jpg?sqp=-oa...    sport\n",
       "1  https://i.ytimg.com/vi/9asUxE9beJo/hqdefault.jpg?sqp=-oa...    sport\n",
       "2  https://i.ytimg.com/vi/E4N8K6qWEx8/hqdefault.jpg?sqp=-oa...    sport\n",
       "3  https://i.ytimg.com/vi/9fufKujxeM0/hqdefault.jpg?sqp=-oa...    sport\n",
       "4  https://i.ytimg.com/vi/rv2SsK1hies/hqdefault.jpg?sqp=-oa...    sport"
      ]
     },
     "execution_count": 12,
     "metadata": {},
     "output_type": "execute_result"
    }
   ],
   "source": [
    "thumbnail_list3 = pd.DataFrame({'thumbnail' :[],'category':[] })\n",
    "\n",
    "for i in range(0,len(video_url_list3)):\n",
    "    \n",
    "    try :\n",
    "\n",
    "        thumbnail = video_js_list3[i].find('img', {'src' : True})['src']\n",
    "        category = category_list3[i] \n",
    "        insert_data = pd.DataFrame({'thumbnail' :[thumbnail],'category':[category]})\n",
    "    \n",
    "        #thumbnail_list = sukaworld.append(insert_data)\n",
    "        thumbnail_list3 = pd.concat([thumbnail_list3, insert_data], ignore_index=True)\n",
    "    \n",
    "    except KeyError as k: # error It's saved without including floating. (error Whenever you find something that pops up, just put it in.)\n",
    "        pass\n",
    "    except AttributeError as a: \n",
    "        pass\n",
    "    except IndexError as e:\n",
    "        pass\n",
    "    except TypeError as t:\n",
    "        pass\n",
    "\n",
    "len(thumbnail_list3)\n",
    "thumbnail_list3.head()"
   ]
  },
  {
   "cell_type": "code",
   "execution_count": 14,
   "id": "237f38c1",
   "metadata": {},
   "outputs": [],
   "source": [
    "thumbnail_list3.to_csv('/Users/wuyuemeng/Desktop/project/real_dataset2/sport_complete.csv',encoding='utf-8-sig')"
   ]
  },
  {
   "cell_type": "code",
   "execution_count": null,
   "id": "644089c3",
   "metadata": {},
   "outputs": [],
   "source": []
  }
 ],
 "metadata": {
  "kernelspec": {
   "display_name": "Python 3 (ipykernel)",
   "language": "python",
   "name": "python3"
  },
  "language_info": {
   "codemirror_mode": {
    "name": "ipython",
    "version": 3
   },
   "file_extension": ".py",
   "mimetype": "text/x-python",
   "name": "python",
   "nbconvert_exporter": "python",
   "pygments_lexer": "ipython3",
   "version": "3.9.12"
  }
 },
 "nbformat": 4,
 "nbformat_minor": 5
}
